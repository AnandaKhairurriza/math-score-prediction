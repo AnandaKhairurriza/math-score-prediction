{
 "cells": [
  {
   "attachments": {},
   "cell_type": "markdown",
   "metadata": {},
   "source": [
    "<h2><b>Score analyzing and developing model to predict the math scores.</b></h2>\n",
    "\n",
    "<h4><b>Objective: </b></h4>\n",
    "\n",
    "The objective of this project is to analyzing the dataset and to predict the math scores based on the dataset.\n",
    "\n",
    "<h4><b>Dataset: </b></h4>\n",
    "\n",
    "The dataset used is data that contains information on physics, science, statistics, and mathematics scores.\n",
    "\n",
    "<h4><b>Web Deployment: </b></h4>\n",
    "\n",
    "https://huggingface.co/spaces/AnandaKhairurriza/math-score-prediction"
   ]
  },
  {
   "attachments": {},
   "cell_type": "markdown",
   "metadata": {},
   "source": [
    "## Import Libraries\n",
    "This section contains list of libraries that used on this project"
   ]
  },
  {
   "cell_type": "code",
   "execution_count": 1,
   "metadata": {},
   "outputs": [],
   "source": [
    "import numpy as np\n",
    "\n",
    "# For processing tabular data\n",
    "import pandas as pd\n",
    "\n",
    "# For data visualization\n",
    "import matplotlib.pyplot as plt\n",
    "import seaborn as sns\n",
    "\n",
    "# For splitting between train and test set\n",
    "from sklearn.model_selection import train_test_split\n",
    "\n",
    "# For scaling the feature\n",
    "from sklearn.preprocessing import MinMaxScaler, RobustScaler\n",
    "\n",
    "# Algorithm used for model prediction\n",
    "from sklearn.linear_model import LinearRegression\n",
    "from sklearn.svm import SVR\n",
    "from sklearn.neighbors import KNeighborsRegressor\n",
    "from sklearn.tree import DecisionTreeRegressor\n",
    "from sklearn.ensemble import RandomForestRegressor\n",
    "from sklearn.ensemble import AdaBoostRegressor\n",
    "\n",
    "# Metrics used for model performance\n",
    "from sklearn.metrics import mean_absolute_error, r2_score\n",
    "\n",
    "# Spearman correlation\n",
    "from scipy.stats import spearmanr\n",
    "\n",
    "# For saving the model\n",
    "import pickle\n",
    "import json"
   ]
  },
  {
   "attachments": {},
   "cell_type": "markdown",
   "metadata": {},
   "source": [
    "The python and library version used in this project are:\n",
    "<ul>\n",
    "    <li>Python version <b>3.11.0</b></li>\n",
    "    <li>Numpy version <b>1.23.5</b></li>\n",
    "    <li>Pandas version <b>1.5.2</b></li>\n",
    "    <li>SciPy version <b>1.9.3</b></li>\n",
    "    <li>Feature-engine version <b>1.5.2</b></li>\n",
    "    <li>Scikit-Learn version <b>1.2.0</b></li>\n",
    "    <li>Seaborn version <b>0.12.1</b></li>\n",
    "</ul>"
   ]
  },
  {
   "attachments": {},
   "cell_type": "markdown",
   "metadata": {},
   "source": [
    "## Data Preprocessing\n",
    "This section contains the steps for preparing the data such as loading the dataset, checking dataset information, and data cleansing if necessary."
   ]
  },
  {
   "cell_type": "code",
   "execution_count": 2,
   "metadata": {},
   "outputs": [],
   "source": [
    "# Load data csv\n",
    "df = pd.read_csv(\"Data.csv\")"
   ]
  },
  {
   "cell_type": "code",
   "execution_count": 3,
   "metadata": {},
   "outputs": [
    {
     "data": {
      "text/html": [
       "<div>\n",
       "<style scoped>\n",
       "    .dataframe tbody tr th:only-of-type {\n",
       "        vertical-align: middle;\n",
       "    }\n",
       "\n",
       "    .dataframe tbody tr th {\n",
       "        vertical-align: top;\n",
       "    }\n",
       "\n",
       "    .dataframe thead th {\n",
       "        text-align: right;\n",
       "    }\n",
       "</style>\n",
       "<table border=\"1\" class=\"dataframe\">\n",
       "  <thead>\n",
       "    <tr style=\"text-align: right;\">\n",
       "      <th></th>\n",
       "      <th>Pysics</th>\n",
       "      <th>Science</th>\n",
       "      <th>Statistics</th>\n",
       "      <th>Math</th>\n",
       "    </tr>\n",
       "  </thead>\n",
       "  <tbody>\n",
       "    <tr>\n",
       "      <th>0</th>\n",
       "      <td>64</td>\n",
       "      <td>67</td>\n",
       "      <td>69</td>\n",
       "      <td>68</td>\n",
       "    </tr>\n",
       "    <tr>\n",
       "      <th>1</th>\n",
       "      <td>74</td>\n",
       "      <td>74</td>\n",
       "      <td>63</td>\n",
       "      <td>67</td>\n",
       "    </tr>\n",
       "    <tr>\n",
       "      <th>2</th>\n",
       "      <td>60</td>\n",
       "      <td>59</td>\n",
       "      <td>55</td>\n",
       "      <td>57</td>\n",
       "    </tr>\n",
       "    <tr>\n",
       "      <th>3</th>\n",
       "      <td>84</td>\n",
       "      <td>88</td>\n",
       "      <td>89</td>\n",
       "      <td>91</td>\n",
       "    </tr>\n",
       "    <tr>\n",
       "      <th>4</th>\n",
       "      <td>80</td>\n",
       "      <td>88</td>\n",
       "      <td>78</td>\n",
       "      <td>82</td>\n",
       "    </tr>\n",
       "    <tr>\n",
       "      <th>5</th>\n",
       "      <td>75</td>\n",
       "      <td>68</td>\n",
       "      <td>68</td>\n",
       "      <td>63</td>\n",
       "    </tr>\n",
       "    <tr>\n",
       "      <th>6</th>\n",
       "      <td>66</td>\n",
       "      <td>59</td>\n",
       "      <td>55</td>\n",
       "      <td>65</td>\n",
       "    </tr>\n",
       "    <tr>\n",
       "      <th>7</th>\n",
       "      <td>77</td>\n",
       "      <td>71</td>\n",
       "      <td>66</td>\n",
       "      <td>73</td>\n",
       "    </tr>\n",
       "    <tr>\n",
       "      <th>8</th>\n",
       "      <td>70</td>\n",
       "      <td>71</td>\n",
       "      <td>60</td>\n",
       "      <td>67</td>\n",
       "    </tr>\n",
       "    <tr>\n",
       "      <th>9</th>\n",
       "      <td>89</td>\n",
       "      <td>84</td>\n",
       "      <td>80</td>\n",
       "      <td>85</td>\n",
       "    </tr>\n",
       "  </tbody>\n",
       "</table>\n",
       "</div>"
      ],
      "text/plain": [
       "   Pysics  Science  Statistics  Math\n",
       "0      64       67          69    68\n",
       "1      74       74          63    67\n",
       "2      60       59          55    57\n",
       "3      84       88          89    91\n",
       "4      80       88          78    82\n",
       "5      75       68          68    63\n",
       "6      66       59          55    65\n",
       "7      77       71          66    73\n",
       "8      70       71          60    67\n",
       "9      89       84          80    85"
      ]
     },
     "execution_count": 3,
     "metadata": {},
     "output_type": "execute_result"
    }
   ],
   "source": [
    "# Show first 10 data\n",
    "df.head(10)"
   ]
  },
  {
   "cell_type": "code",
   "execution_count": 4,
   "metadata": {},
   "outputs": [
    {
     "data": {
      "text/html": [
       "<div>\n",
       "<style scoped>\n",
       "    .dataframe tbody tr th:only-of-type {\n",
       "        vertical-align: middle;\n",
       "    }\n",
       "\n",
       "    .dataframe tbody tr th {\n",
       "        vertical-align: top;\n",
       "    }\n",
       "\n",
       "    .dataframe thead th {\n",
       "        text-align: right;\n",
       "    }\n",
       "</style>\n",
       "<table border=\"1\" class=\"dataframe\">\n",
       "  <thead>\n",
       "    <tr style=\"text-align: right;\">\n",
       "      <th></th>\n",
       "      <th>Pysics</th>\n",
       "      <th>Science</th>\n",
       "      <th>Statistics</th>\n",
       "      <th>Math</th>\n",
       "    </tr>\n",
       "  </thead>\n",
       "  <tbody>\n",
       "    <tr>\n",
       "      <th>456</th>\n",
       "      <td>89</td>\n",
       "      <td>75</td>\n",
       "      <td>73</td>\n",
       "      <td>57</td>\n",
       "    </tr>\n",
       "    <tr>\n",
       "      <th>457</th>\n",
       "      <td>83</td>\n",
       "      <td>65</td>\n",
       "      <td>67</td>\n",
       "      <td>91</td>\n",
       "    </tr>\n",
       "    <tr>\n",
       "      <th>458</th>\n",
       "      <td>74</td>\n",
       "      <td>91</td>\n",
       "      <td>85</td>\n",
       "      <td>82</td>\n",
       "    </tr>\n",
       "    <tr>\n",
       "      <th>459</th>\n",
       "      <td>74</td>\n",
       "      <td>60</td>\n",
       "      <td>82</td>\n",
       "      <td>63</td>\n",
       "    </tr>\n",
       "    <tr>\n",
       "      <th>460</th>\n",
       "      <td>69</td>\n",
       "      <td>65</td>\n",
       "      <td>67</td>\n",
       "      <td>65</td>\n",
       "    </tr>\n",
       "    <tr>\n",
       "      <th>461</th>\n",
       "      <td>75</td>\n",
       "      <td>91</td>\n",
       "      <td>57</td>\n",
       "      <td>73</td>\n",
       "    </tr>\n",
       "    <tr>\n",
       "      <th>462</th>\n",
       "      <td>85</td>\n",
       "      <td>74</td>\n",
       "      <td>74</td>\n",
       "      <td>67</td>\n",
       "    </tr>\n",
       "    <tr>\n",
       "      <th>463</th>\n",
       "      <td>65</td>\n",
       "      <td>65</td>\n",
       "      <td>83</td>\n",
       "      <td>85</td>\n",
       "    </tr>\n",
       "    <tr>\n",
       "      <th>464</th>\n",
       "      <td>76</td>\n",
       "      <td>91</td>\n",
       "      <td>71</td>\n",
       "      <td>82</td>\n",
       "    </tr>\n",
       "    <tr>\n",
       "      <th>465</th>\n",
       "      <td>74</td>\n",
       "      <td>68</td>\n",
       "      <td>85</td>\n",
       "      <td>67</td>\n",
       "    </tr>\n",
       "  </tbody>\n",
       "</table>\n",
       "</div>"
      ],
      "text/plain": [
       "     Pysics  Science  Statistics  Math\n",
       "456      89       75          73    57\n",
       "457      83       65          67    91\n",
       "458      74       91          85    82\n",
       "459      74       60          82    63\n",
       "460      69       65          67    65\n",
       "461      75       91          57    73\n",
       "462      85       74          74    67\n",
       "463      65       65          83    85\n",
       "464      76       91          71    82\n",
       "465      74       68          85    67"
      ]
     },
     "execution_count": 4,
     "metadata": {},
     "output_type": "execute_result"
    }
   ],
   "source": [
    "# Show last 10 data\n",
    "df.tail(10)"
   ]
  },
  {
   "cell_type": "code",
   "execution_count": 5,
   "metadata": {},
   "outputs": [
    {
     "name": "stdout",
     "output_type": "stream",
     "text": [
      "<class 'pandas.core.frame.DataFrame'>\n",
      "RangeIndex: 466 entries, 0 to 465\n",
      "Data columns (total 4 columns):\n",
      " #   Column      Non-Null Count  Dtype\n",
      "---  ------      --------------  -----\n",
      " 0   Pysics      466 non-null    int64\n",
      " 1   Science     466 non-null    int64\n",
      " 2   Statistics  466 non-null    int64\n",
      " 3   Math        466 non-null    int64\n",
      "dtypes: int64(4)\n",
      "memory usage: 14.7 KB\n"
     ]
    }
   ],
   "source": [
    "# Checking dataset information\n",
    "df.info()"
   ]
  },
  {
   "attachments": {},
   "cell_type": "markdown",
   "metadata": {},
   "source": [
    "Based on information, the dataset has 4 integer columns (Pysics, Science, Statistics, Math) and has 466 data. Beside that, there is no empty data in the dataset (can be seen on 466 non-null from total 466 entries)."
   ]
  },
  {
   "cell_type": "code",
   "execution_count": 6,
   "metadata": {},
   "outputs": [
    {
     "data": {
      "text/html": [
       "<div>\n",
       "<style scoped>\n",
       "    .dataframe tbody tr th:only-of-type {\n",
       "        vertical-align: middle;\n",
       "    }\n",
       "\n",
       "    .dataframe tbody tr th {\n",
       "        vertical-align: top;\n",
       "    }\n",
       "\n",
       "    .dataframe thead th {\n",
       "        text-align: right;\n",
       "    }\n",
       "</style>\n",
       "<table border=\"1\" class=\"dataframe\">\n",
       "  <thead>\n",
       "    <tr style=\"text-align: right;\">\n",
       "      <th></th>\n",
       "      <th>Pysics</th>\n",
       "      <th>Science</th>\n",
       "      <th>Statistics</th>\n",
       "      <th>Math</th>\n",
       "    </tr>\n",
       "  </thead>\n",
       "  <tbody>\n",
       "    <tr>\n",
       "      <th>count</th>\n",
       "      <td>466.000000</td>\n",
       "      <td>466.000000</td>\n",
       "      <td>466.000000</td>\n",
       "      <td>466.000000</td>\n",
       "    </tr>\n",
       "    <tr>\n",
       "      <th>mean</th>\n",
       "      <td>71.742489</td>\n",
       "      <td>72.813305</td>\n",
       "      <td>73.682403</td>\n",
       "      <td>74.540773</td>\n",
       "    </tr>\n",
       "    <tr>\n",
       "      <th>std</th>\n",
       "      <td>16.033238</td>\n",
       "      <td>14.270110</td>\n",
       "      <td>12.180806</td>\n",
       "      <td>11.424528</td>\n",
       "    </tr>\n",
       "    <tr>\n",
       "      <th>min</th>\n",
       "      <td>0.000000</td>\n",
       "      <td>0.000000</td>\n",
       "      <td>22.000000</td>\n",
       "      <td>22.000000</td>\n",
       "    </tr>\n",
       "    <tr>\n",
       "      <th>25%</th>\n",
       "      <td>66.000000</td>\n",
       "      <td>66.000000</td>\n",
       "      <td>66.250000</td>\n",
       "      <td>67.000000</td>\n",
       "    </tr>\n",
       "    <tr>\n",
       "      <th>50%</th>\n",
       "      <td>74.000000</td>\n",
       "      <td>74.000000</td>\n",
       "      <td>74.000000</td>\n",
       "      <td>74.000000</td>\n",
       "    </tr>\n",
       "    <tr>\n",
       "      <th>75%</th>\n",
       "      <td>82.000000</td>\n",
       "      <td>83.000000</td>\n",
       "      <td>83.000000</td>\n",
       "      <td>83.000000</td>\n",
       "    </tr>\n",
       "    <tr>\n",
       "      <th>max</th>\n",
       "      <td>99.000000</td>\n",
       "      <td>99.000000</td>\n",
       "      <td>100.000000</td>\n",
       "      <td>99.000000</td>\n",
       "    </tr>\n",
       "  </tbody>\n",
       "</table>\n",
       "</div>"
      ],
      "text/plain": [
       "           Pysics     Science  Statistics        Math\n",
       "count  466.000000  466.000000  466.000000  466.000000\n",
       "mean    71.742489   72.813305   73.682403   74.540773\n",
       "std     16.033238   14.270110   12.180806   11.424528\n",
       "min      0.000000    0.000000   22.000000   22.000000\n",
       "25%     66.000000   66.000000   66.250000   67.000000\n",
       "50%     74.000000   74.000000   74.000000   74.000000\n",
       "75%     82.000000   83.000000   83.000000   83.000000\n",
       "max     99.000000   99.000000  100.000000   99.000000"
      ]
     },
     "execution_count": 6,
     "metadata": {},
     "output_type": "execute_result"
    }
   ],
   "source": [
    "# Checking numeric columns information in dataset\n",
    "df.describe()"
   ]
  },
  {
   "attachments": {},
   "cell_type": "markdown",
   "metadata": {},
   "source": [
    "Based on numeric column information, we can see the mean/average score of all subjects is more than 70 from 466 people who take the exam. We can say that most of have a good score on the test (I set a score threshold at 70). The range (minimal to maximal) of Physics and Science score test is 0 to 99, the range of Statistics score test is 22 to 100, and range of Math score test is 22 to 99. From there, we can assume the scoring range starts from 0 until 100."
   ]
  },
  {
   "attachments": {},
   "cell_type": "markdown",
   "metadata": {},
   "source": [
    "The next step is renaming the dataset column. The \"Pysics\" name seems typo so I rename it to \"Physics\". And the \"Statistics\" name is too long so I change it to just \"Stats\"."
   ]
  },
  {
   "cell_type": "code",
   "execution_count": 7,
   "metadata": {},
   "outputs": [
    {
     "data": {
      "text/html": [
       "<div>\n",
       "<style scoped>\n",
       "    .dataframe tbody tr th:only-of-type {\n",
       "        vertical-align: middle;\n",
       "    }\n",
       "\n",
       "    .dataframe tbody tr th {\n",
       "        vertical-align: top;\n",
       "    }\n",
       "\n",
       "    .dataframe thead th {\n",
       "        text-align: right;\n",
       "    }\n",
       "</style>\n",
       "<table border=\"1\" class=\"dataframe\">\n",
       "  <thead>\n",
       "    <tr style=\"text-align: right;\">\n",
       "      <th></th>\n",
       "      <th>Physics</th>\n",
       "      <th>Science</th>\n",
       "      <th>Stats</th>\n",
       "      <th>Math</th>\n",
       "    </tr>\n",
       "  </thead>\n",
       "  <tbody>\n",
       "    <tr>\n",
       "      <th>0</th>\n",
       "      <td>64</td>\n",
       "      <td>67</td>\n",
       "      <td>69</td>\n",
       "      <td>68</td>\n",
       "    </tr>\n",
       "    <tr>\n",
       "      <th>1</th>\n",
       "      <td>74</td>\n",
       "      <td>74</td>\n",
       "      <td>63</td>\n",
       "      <td>67</td>\n",
       "    </tr>\n",
       "    <tr>\n",
       "      <th>2</th>\n",
       "      <td>60</td>\n",
       "      <td>59</td>\n",
       "      <td>55</td>\n",
       "      <td>57</td>\n",
       "    </tr>\n",
       "    <tr>\n",
       "      <th>3</th>\n",
       "      <td>84</td>\n",
       "      <td>88</td>\n",
       "      <td>89</td>\n",
       "      <td>91</td>\n",
       "    </tr>\n",
       "    <tr>\n",
       "      <th>4</th>\n",
       "      <td>80</td>\n",
       "      <td>88</td>\n",
       "      <td>78</td>\n",
       "      <td>82</td>\n",
       "    </tr>\n",
       "    <tr>\n",
       "      <th>...</th>\n",
       "      <td>...</td>\n",
       "      <td>...</td>\n",
       "      <td>...</td>\n",
       "      <td>...</td>\n",
       "    </tr>\n",
       "    <tr>\n",
       "      <th>461</th>\n",
       "      <td>75</td>\n",
       "      <td>91</td>\n",
       "      <td>57</td>\n",
       "      <td>73</td>\n",
       "    </tr>\n",
       "    <tr>\n",
       "      <th>462</th>\n",
       "      <td>85</td>\n",
       "      <td>74</td>\n",
       "      <td>74</td>\n",
       "      <td>67</td>\n",
       "    </tr>\n",
       "    <tr>\n",
       "      <th>463</th>\n",
       "      <td>65</td>\n",
       "      <td>65</td>\n",
       "      <td>83</td>\n",
       "      <td>85</td>\n",
       "    </tr>\n",
       "    <tr>\n",
       "      <th>464</th>\n",
       "      <td>76</td>\n",
       "      <td>91</td>\n",
       "      <td>71</td>\n",
       "      <td>82</td>\n",
       "    </tr>\n",
       "    <tr>\n",
       "      <th>465</th>\n",
       "      <td>74</td>\n",
       "      <td>68</td>\n",
       "      <td>85</td>\n",
       "      <td>67</td>\n",
       "    </tr>\n",
       "  </tbody>\n",
       "</table>\n",
       "<p>466 rows × 4 columns</p>\n",
       "</div>"
      ],
      "text/plain": [
       "     Physics  Science  Stats  Math\n",
       "0         64       67     69    68\n",
       "1         74       74     63    67\n",
       "2         60       59     55    57\n",
       "3         84       88     89    91\n",
       "4         80       88     78    82\n",
       "..       ...      ...    ...   ...\n",
       "461       75       91     57    73\n",
       "462       85       74     74    67\n",
       "463       65       65     83    85\n",
       "464       76       91     71    82\n",
       "465       74       68     85    67\n",
       "\n",
       "[466 rows x 4 columns]"
      ]
     },
     "execution_count": 7,
     "metadata": {},
     "output_type": "execute_result"
    }
   ],
   "source": [
    "# Renaming the column\n",
    "df.rename(columns={\"Pysics\":\"Physics\"}, inplace=True)\n",
    "df.rename(columns={\"Statistics\":\"Stats\"}, inplace=True)\n",
    "df"
   ]
  },
  {
   "attachments": {},
   "cell_type": "markdown",
   "metadata": {},
   "source": [
    "After fixing the column, the next step is to clean the dataset from duplicated data."
   ]
  },
  {
   "cell_type": "code",
   "execution_count": 8,
   "metadata": {},
   "outputs": [
    {
     "data": {
      "text/plain": [
       "False    465\n",
       "True       1\n",
       "dtype: int64"
      ]
     },
     "execution_count": 8,
     "metadata": {},
     "output_type": "execute_result"
    }
   ],
   "source": [
    "# Check duplicate data\n",
    "check = df.duplicated()\n",
    "check.value_counts()"
   ]
  },
  {
   "attachments": {},
   "cell_type": "markdown",
   "metadata": {},
   "source": [
    "After checking the amount of duplicate data, there's one duplicate data. Let's see the duplicated data more detail."
   ]
  },
  {
   "cell_type": "code",
   "execution_count": 9,
   "metadata": {},
   "outputs": [
    {
     "data": {
      "text/html": [
       "<div>\n",
       "<style scoped>\n",
       "    .dataframe tbody tr th:only-of-type {\n",
       "        vertical-align: middle;\n",
       "    }\n",
       "\n",
       "    .dataframe tbody tr th {\n",
       "        vertical-align: top;\n",
       "    }\n",
       "\n",
       "    .dataframe thead th {\n",
       "        text-align: right;\n",
       "    }\n",
       "</style>\n",
       "<table border=\"1\" class=\"dataframe\">\n",
       "  <thead>\n",
       "    <tr style=\"text-align: right;\">\n",
       "      <th></th>\n",
       "      <th>Physics</th>\n",
       "      <th>Science</th>\n",
       "      <th>Stats</th>\n",
       "      <th>Math</th>\n",
       "    </tr>\n",
       "  </thead>\n",
       "  <tbody>\n",
       "    <tr>\n",
       "      <th>398</th>\n",
       "      <td>60</td>\n",
       "      <td>71</td>\n",
       "      <td>83</td>\n",
       "      <td>82</td>\n",
       "    </tr>\n",
       "    <tr>\n",
       "      <th>446</th>\n",
       "      <td>60</td>\n",
       "      <td>71</td>\n",
       "      <td>83</td>\n",
       "      <td>82</td>\n",
       "    </tr>\n",
       "  </tbody>\n",
       "</table>\n",
       "</div>"
      ],
      "text/plain": [
       "     Physics  Science  Stats  Math\n",
       "398       60       71     83    82\n",
       "446       60       71     83    82"
      ]
     },
     "execution_count": 9,
     "metadata": {},
     "output_type": "execute_result"
    }
   ],
   "source": [
    "duplicate = df[df.duplicated(keep = False)]\n",
    "duplicate"
   ]
  },
  {
   "attachments": {},
   "cell_type": "markdown",
   "metadata": {},
   "source": [
    "It seems that the data with ID 398 has same value with ID 446. In this case, we will delete the 446 one."
   ]
  },
  {
   "cell_type": "code",
   "execution_count": 10,
   "metadata": {},
   "outputs": [],
   "source": [
    "# Deleting duplicate data\n",
    "df.drop(index=[446], inplace=True)\n",
    "df.reset_index(drop=True, inplace=True)"
   ]
  },
  {
   "cell_type": "code",
   "execution_count": 11,
   "metadata": {},
   "outputs": [
    {
     "data": {
      "text/plain": [
       "False    465\n",
       "dtype: int64"
      ]
     },
     "execution_count": 11,
     "metadata": {},
     "output_type": "execute_result"
    }
   ],
   "source": [
    "# Check duplicate data again\n",
    "check = df.duplicated()\n",
    "check.value_counts()"
   ]
  },
  {
   "attachments": {},
   "cell_type": "markdown",
   "metadata": {},
   "source": [
    "## Exploratory Data Analysis (EDA)\n",
    "In this section, an analysis of the dataset is carried out to obtain insight and detailed information about the dataset."
   ]
  },
  {
   "attachments": {},
   "cell_type": "markdown",
   "metadata": {},
   "source": [
    "### Show the score frequency"
   ]
  },
  {
   "cell_type": "code",
   "execution_count": 12,
   "metadata": {},
   "outputs": [
    {
     "data": {
      "image/png": "[encoded data removed]",
      "text/plain": [
       "<Figure size 1700x1200 with 4 Axes>"
      ]
     },
     "metadata": {},
     "output_type": "display_data"
    }
   ],
   "source": [
    "plt.figure(figsize=(17, 12))\n",
    "PhysicsMean = \"Mean \" + str(np.round(df.Physics.mean(),2))\n",
    "PhysicsMed = \"Median  \" + str(df.Physics.median())\n",
    "PhysicsMode = \"Mode  \" + str(df.Physics.mode()[0])\n",
    "\n",
    "ScienceMean = \"Mean \" + str(np.round(df.Science.mean(),2))\n",
    "ScienceMed = \"Median  \" + str(df.Science.median())\n",
    "ScienceMode = \"Mode  \" + str(df.Science.mode()[0])\n",
    "\n",
    "StatsMean = \"Mean \" + str(np.round(df.Stats.mean(),2))\n",
    "StatsMed = \"Median  \" + str(df.Stats.median())\n",
    "StatsMode = \"Mode  \" + str(df.Stats.mode()[0])\n",
    "\n",
    "MathMean = \"Mean \" + str(np.round(df.Math.mean(),2))\n",
    "MathMed = \"Median  \" + str(df.Math.median())\n",
    "MathMode = \"Mode  \" + str(df.Math.mode()[0])\n",
    "\n",
    "# Physics Histogram\n",
    "plt.subplot(2, 2, 1)\n",
    "plt.title(\"Physics Score\")\n",
    "hP = sns.histplot(data=df, x=df.Physics, bins=10, kde=True, color=\"purple\")\n",
    "hP.bar_label(hP.containers[0])\n",
    "plt.axvline(x=df.Physics.mean(),color=\"red\", lw=1.5, label=PhysicsMean)\n",
    "plt.axvline(x=df.Physics.median(), color=\"green\", lw=1.5, label=PhysicsMed)\n",
    "plt.axvline(x=df.Physics.mode()[0], color=\"blue\", lw=1.5, label=PhysicsMode)\n",
    "plt.legend(loc=\"upper left\")\n",
    "\n",
    "# Science Histogram\n",
    "plt.subplot(2, 2, 2)\n",
    "plt.title(\"Science Score\")\n",
    "hS = sns.histplot(data=df, x=df.Science, bins=10, kde=True, color=\"orange\")\n",
    "hS.bar_label(hS.containers[0])\n",
    "plt.axvline(x=df.Science.mean(),color=\"red\", lw=1.5, label=ScienceMean)\n",
    "plt.axvline(x=df.Science.median(), color=\"green\", lw=1.5, label=ScienceMed)\n",
    "plt.axvline(x=df.Science.mode()[0], color=\"blue\", lw=1.5, label=ScienceMode)\n",
    "plt.legend(loc=\"upper left\")\n",
    "\n",
    "# Statistics Histogram\n",
    "plt.subplot(2, 2, 3)\n",
    "plt.title(\"Statistics Score\")\n",
    "hT = sns.histplot(data=df, x=df.Stats, bins=10, kde=True, color=\"green\")\n",
    "hT.bar_label(hT.containers[0])\n",
    "plt.axvline(x=df.Stats.mean(),color=\"red\", lw=1.5, label=StatsMean)\n",
    "plt.axvline(x=df.Stats.median(), color=\"green\", lw=1.5, label=StatsMed)\n",
    "plt.axvline(x=df.Stats.mode()[0], color=\"blue\", lw=1.5, label=StatsMode)\n",
    "plt.legend(loc=\"upper left\")\n",
    "\n",
    "# Math Histogram\n",
    "plt.subplot(2, 2, 4)\n",
    "plt.title(\"Math Score\")\n",
    "hM = sns.histplot(data=df, x=df.Math, bins=10, kde=True, color=\"blue\")\n",
    "hM.bar_label(hM.containers[0])\n",
    "plt.axvline(x=df.Math.mean(),color=\"red\", lw=1.5, label=MathMean)\n",
    "plt.axvline(x=df.Math.median(), color=\"green\", lw=1.5, label=MathMed)\n",
    "plt.axvline(x=df.Math.mode()[0], color=\"blue\", lw=1.5, label=MathMode)\n",
    "plt.legend(loc=\"upper left\")\n",
    "\n",
    "plt.show()"
   ]
  },
  {
   "attachments": {},
   "cell_type": "markdown",
   "metadata": {},
   "source": [
    "Based on the histogram of all subjects score test, there's several information can be found:\n",
    "<ul>\n",
    "    <li>The physics average (mean) score is 71.77, the middle score (median) is 74, and most (mode) people got a 74 score on the exam. The physics scores data seems not normally distributed, we can see mostly the data in the right side (negative/left skew). That means most people got a good score (70 or above) rather than a bad score (under 70)</li>\n",
    "    <br>\n",
    "    <li>The science average (mean) score is 72.82, the middle score (median) is 74, and most (mode) people got a 74 score on the exam. The science scores data seems not normally distributed, we can see mostly the data in the right side (negative/left skew). That means most people got a good score (70 or above) rather than a bad score (under 70)</li>\n",
    "    <br>\n",
    "    <li>The statistics average (mean) score is 73.66, the middle score (median) is 74, and most (mode) people got a 74 score on the exam. The statistics scores data seems not normally distributed, we can see mostly the data in the right side (negative/left skew). That means most people got a good score (70 or above) rather than a bad score (under 70)</li>\n",
    "    <br>\n",
    "    <li>The math average (mean) score is 74.52, the middle score (median) is 74, and most (mode) people got a 74 score on the exam. The math scores data seems not normally distributed, we can see mostly the data in the right side (negative/left skew). That means most people got a good score (70 or above) rather than a bad score (under 70)</li>\n",
    "</ul>\n",
    "\n",
    "All the subjects scores data is not normally distributed (negative/left skew) because most of the data is on the right. The middle score (median) and most score (mode) of all subjects has the same value too (74)."
   ]
  },
  {
   "attachments": {},
   "cell_type": "markdown",
   "metadata": {},
   "source": [
    "### Math score comparison"
   ]
  },
  {
   "attachments": {},
   "cell_type": "markdown",
   "metadata": {},
   "source": [
    "The next is to find out how many people who got the good and bad score on the math exam (for the threshold score, I set it at 70)."
   ]
  },
  {
   "cell_type": "code",
   "execution_count": 13,
   "metadata": {},
   "outputs": [
    {
     "data": {
      "image/png": "[encoded data removed]",
      "text/plain": [
       "<Figure size 640x480 with 1 Axes>"
      ]
     },
     "metadata": {},
     "output_type": "display_data"
    }
   ],
   "source": [
    "data = [df[df[\"Math\"] >= 70].shape[0], df[df[\"Math\"] < 70].shape[0]]\n",
    "labels = [\"Good at math\", \"Bad at math\"]\n",
    "\n",
    "def fmt(x):\n",
    "    return \"{:.1f}%\\n({:.0f})\".format(x, len(df)*x/100)\n",
    "\n",
    "plt.title(\"Math score comparison\")\n",
    "plt.pie(data, labels=labels, shadow = True, autopct=fmt)\n",
    "plt.show()"
   ]
  },
  {
   "attachments": {},
   "cell_type": "markdown",
   "metadata": {},
   "source": [
    "Based on pie chart above, we can see most of the people got a good score on the math exam (63.9%) than bad score (36.1%). The next is step is to see more detail information about these comparison."
   ]
  },
  {
   "attachments": {},
   "cell_type": "markdown",
   "metadata": {},
   "source": [
    "### Score comparison with good at math"
   ]
  },
  {
   "cell_type": "code",
   "execution_count": 14,
   "metadata": {},
   "outputs": [
    {
     "data": {
      "image/png": "[encoded data removed]",
      "text/plain": [
       "<Figure size 1700x800 with 3 Axes>"
      ]
     },
     "metadata": {},
     "output_type": "display_data"
    }
   ],
   "source": [
    "def fmt(x):\n",
    "    return \"{:.1f}%\\n({:.0f})\".format(x, len(df[df[\"Math\"] >= 70])*x/100)\n",
    "\n",
    "plt.figure(figsize=(17, 8))\n",
    "\n",
    "plt.subplot(1, 3, 1)\n",
    "data = [df[(df[\"Math\"] >= 70) & (df[\"Physics\"] >= 70)].shape[0], df[(df[\"Math\"] >= 70) & (df[\"Physics\"] < 70)].shape[0]]\n",
    "labels = [\"Good at physics\", \"Bad at physics\"]\n",
    "plt.pie(data, labels=labels, shadow = True, autopct=fmt)\n",
    "\n",
    "plt.subplot(1, 3, 2)\n",
    "data = [df[(df[\"Math\"] >= 70) & (df[\"Science\"] >= 70)].shape[0], df[(df[\"Math\"] >= 70) & (df[\"Science\"] < 70)].shape[0]]\n",
    "labels = [\"Good at science\", \"Bad at science\"]\n",
    "plt.pie(data, labels=labels, shadow = True, autopct=fmt)\n",
    "\n",
    "plt.title(\"Score comparison with good at math (score 70 and above)\")\n",
    "\n",
    "plt.subplot(1, 3, 3)\n",
    "data = [df[(df[\"Math\"] >= 70) & (df[\"Stats\"] >= 70)].shape[0], df[(df[\"Math\"] >= 70) & (df[\"Stats\"] < 70)].shape[0]]\n",
    "labels = [\"Good at statistics\", \"Bad at statistics\"]\n",
    "plt.pie(data, labels=labels, shadow = True, autopct=fmt)\n",
    "\n",
    "plt.show()"
   ]
  },
  {
   "attachments": {},
   "cell_type": "markdown",
   "metadata": {},
   "source": [
    "For people who got the good score on the math exam, there's several information we can get:\n",
    "<ul>\n",
    "    <li>For physics scores, the number of people who got the good score on the exam is 195 people (65.7%) and 102 people (34.3%) is got the bad score at the exam.</li>\n",
    "    <li>For science scores, the number of people who got the good score on the exam is 208 people (70%) and 89 people (30%) is got the bad score at the exam.</li>\n",
    "    <li>For statistics scores, the number of people who got the good score on the exam is 209 people (70.4%) and 88 people (29.6%) is got the bad score at the exam.</li>\n",
    "</ul>\n",
    "\n",
    "We can conclude that if someone get the good score on the math exam then most likely they have good score at physics, science, or statistics too. The next step is to see details about the people who got the bad score on the math exam."
   ]
  },
  {
   "attachments": {},
   "cell_type": "markdown",
   "metadata": {},
   "source": [
    "### Score comparison with bad at math"
   ]
  },
  {
   "cell_type": "code",
   "execution_count": 15,
   "metadata": {},
   "outputs": [
    {
     "data": {
      "image/png": "[encoded data removed]",
      "text/plain": [
       "<Figure size 1700x800 with 3 Axes>"
      ]
     },
     "metadata": {},
     "output_type": "display_data"
    }
   ],
   "source": [
    "def fmt(x):\n",
    "    return \"{:.1f}%\\n({:.0f})\".format(x, len(df[df[\"Math\"] < 70])*x/100)\n",
    "\n",
    "plt.figure(figsize=(17, 8))\n",
    "\n",
    "plt.subplot(1, 3, 1)\n",
    "data = [df[(df[\"Math\"] < 70) & (df[\"Physics\"] >= 70)].shape[0], df[(df[\"Math\"] < 70) & (df[\"Physics\"] < 70)].shape[0]]\n",
    "labels = [\"Good at physics\", \"bad at physics\"]\n",
    "plt.pie(data, labels=labels, shadow = True, autopct=fmt, colors=[\"green\", \"orange\"])\n",
    "\n",
    "plt.subplot(1, 3, 2)\n",
    "data = [df[(df[\"Math\"] < 70) & (df[\"Science\"] >= 70)].shape[0], df[(df[\"Math\"] < 70) & (df[\"Science\"] < 70)].shape[0]]\n",
    "labels = [\"Good at science\", \"bad at science\"]\n",
    "plt.pie(data, labels=labels, shadow = True, autopct=fmt, colors=[\"green\", \"orange\"])\n",
    "\n",
    "plt.title(\"Score comparison with bad at math (under 70)\")\n",
    "\n",
    "plt.subplot(1, 3, 3)\n",
    "data = [df[(df[\"Math\"] < 70) & (df[\"Stats\"] >= 70)].shape[0], df[(df[\"Math\"] < 70) & (df[\"Stats\"] < 70)].shape[0]]\n",
    "labels = [\"Good at statistics\", \"bad at statistics\"]\n",
    "plt.pie(data, labels=labels, shadow = True, autopct=fmt, colors=[\"green\", \"orange\"])\n",
    "\n",
    "plt.show()"
   ]
  },
  {
   "attachments": {},
   "cell_type": "markdown",
   "metadata": {},
   "source": [
    "For people who got the bad score on the math exam, there's several information we can get:\n",
    "<ul>\n",
    "    <li>For physics scores, the number of people who got the good score on the exam is 99 people (58.9%) and 69 people (41.1%) is got the bad score at the exam.</li>\n",
    "    <li>For science scores, the number of people who got the good score on the exam is 82 people (48.8%) and 86 people (51.2%) is got the bad score at the exam.</li>\n",
    "    <li>For statistics scores, the number of people who got the good score on the exam is 83 people (49.4%) and 85 people (50.6%) is got the bad score at the exam.</li>\n",
    "</ul>\n",
    "\n",
    "It seems that the science and statistics score have slightly correlation with the math score. Because if people got the bad score on the math exam then there's slightly more chance that he/she got the bad score at science or statistics too. Then like the conclusion we state before, if someone get the good score on the math exam then most likely they have good score at science, or statistics too."
   ]
  },
  {
   "attachments": {},
   "cell_type": "markdown",
   "metadata": {},
   "source": [
    "## Feature Engineering\n",
    "This section contains the process of initializing and preparing the feature and target for model training. The steps contain splitting the train-test set and other necessary steps such as handling missing values, handling outliers, feature selection, scaling, encoding, and so on."
   ]
  },
  {
   "attachments": {},
   "cell_type": "markdown",
   "metadata": {},
   "source": [
    "Because we want to predict the math score based on Physics, Science, and Statistics score. We initialize the Physics, Science, and Stats columns as feature (X) and the Math column as target (y)."
   ]
  },
  {
   "cell_type": "code",
   "execution_count": 16,
   "metadata": {},
   "outputs": [],
   "source": [
    "# Initializing feature and target\n",
    "X = df.drop(\"Math\", axis=1)\n",
    "y = df[\"Math\"]"
   ]
  },
  {
   "attachments": {},
   "cell_type": "markdown",
   "metadata": {},
   "source": [
    "After that, we need to determine the amount of train data and test data. In general, the training set must be larger than test set because it is used to train the model. The more data in train set, the model performance will better. For this project, I set the train set size is 80% of the total dataset and 20% for test set."
   ]
  },
  {
   "attachments": {},
   "cell_type": "markdown",
   "metadata": {},
   "source": [
    "### Train test split"
   ]
  },
  {
   "cell_type": "code",
   "execution_count": 17,
   "metadata": {},
   "outputs": [
    {
     "name": "stdout",
     "output_type": "stream",
     "text": [
      "Train size: (372, 3)\n",
      "Test size: (93, 3)\n"
     ]
    }
   ],
   "source": [
    "# Train test split\n",
    "X_train, X_test, y_train, y_test = train_test_split(X, y, train_size=0.8, random_state=17)\n",
    "\n",
    "print(\"Train size:\", X_train.shape)\n",
    "print(\"Test size:\", X_test.shape)"
   ]
  },
  {
   "attachments": {},
   "cell_type": "markdown",
   "metadata": {},
   "source": [
    "From the output, we can see the train size is 325 data and test size is 140 data."
   ]
  },
  {
   "attachments": {},
   "cell_type": "markdown",
   "metadata": {},
   "source": [
    "### Handling Outliers\n",
    "\n",
    "At this step, the outliers data (data that have extreme or unusual values) in the dataset will be checked and handled. First, we need to check the train set distribution to choose the method for detecting outliers data."
   ]
  },
  {
   "cell_type": "code",
   "execution_count": 18,
   "metadata": {},
   "outputs": [
    {
     "name": "stdout",
     "output_type": "stream",
     "text": [
      "Physics Skew : -1.671266388249308 (Skew Distribution)\n",
      "Science Skew : -1.1236090258487361 (Skew Distribution)\n",
      "Stats Skew : -0.8235275432326731 (Skew Distribution)\n"
     ]
    }
   ],
   "source": [
    "# Check the data distribution\n",
    "col = X_train.columns.to_list()\n",
    "for c in col:\n",
    "    if ((X_train[c].skew() <= 0.5) and (X_train[c].skew() >= -0.5)):\n",
    "        print(c,\"Skew :\",X_train[c].skew(), \"(Normal Distribution)\")\n",
    "    else:\n",
    "        print(c,\"Skew :\",X_train[c].skew(), \"(Skew Distribution)\")"
   ]
  },
  {
   "attachments": {},
   "cell_type": "markdown",
   "metadata": {},
   "source": [
    "As we can see, all the features are skew distributed. The best method for detecting outliers in skew distributed data is using the IQR method."
   ]
  },
  {
   "cell_type": "code",
   "execution_count": 19,
   "metadata": {},
   "outputs": [
    {
     "name": "stdout",
     "output_type": "stream",
     "text": [
      "Physics\n",
      "Upper boundary :  106.0\n",
      "Lower boundary :  42.0\n",
      "Outlier above upper boundary : 0\n",
      "Outlier below lower boundary : 16\n",
      "Value max :  99\n",
      "Value min :  0\n",
      "\n",
      "\n",
      "Science\n",
      "Upper boundary :  108.5\n",
      "Lower boundary :  40.5\n",
      "Outlier above upper boundary : 0\n",
      "Outlier below lower boundary : 8\n",
      "Value max :  99\n",
      "Value min :  1\n",
      "\n",
      "\n",
      "Stats\n",
      "Upper boundary :  106.625\n",
      "Lower boundary :  41.625\n",
      "Outlier above upper boundary : 0\n",
      "Outlier below lower boundary : 6\n",
      "Value max :  100\n",
      "Value min :  22\n",
      "\n",
      "\n"
     ]
    }
   ],
   "source": [
    "# Detect outlier in skew distribution\n",
    "for c in col:\n",
    "    IQR = X_train[c].quantile(0.75) - X_train[c].quantile(0.25)\n",
    "    upper_boundary = X_train[c].quantile(0.75) + (1.5 * IQR)\n",
    "    lower_boundary = X_train[c].quantile(0.25) - (1.5 * IQR)\n",
    "    print(c)\n",
    "    print(\"Upper boundary : \", upper_boundary)\n",
    "    print(\"Lower boundary : \", lower_boundary)\n",
    "    print(\"Outlier above upper boundary : {}\".format(len(X_train[X_train[c] > upper_boundary])))\n",
    "    print(\"Outlier below lower boundary : {}\".format(len(X_train[X_train[c] < lower_boundary])))\n",
    "    print(\"Value max : \", X_train[c].max())\n",
    "    print(\"Value min : \", X_train[c].min())\n",
    "    print(\"\\n\")"
   ]
  },
  {
   "attachments": {},
   "cell_type": "markdown",
   "metadata": {},
   "source": [
    "From the outliers detection result, all outliers values in train set are below the lower boundary. For the Physics feature, there are 16 outliers data with the most extreme value is 0. For the Science feature, there are 8 outliers with the most extreme value is 1. And for the Stats feature, there are 6 outliers with the most extreme value is 22. These outliers will be ignored and will be included in the training model. Although the value is unusual, it is still possible that someone get that score on the test (maybe he/she didn't attend the test or any other reason so the score is 0) and not belong to an input error."
   ]
  },
  {
   "attachments": {},
   "cell_type": "markdown",
   "metadata": {},
   "source": [
    "### Feature selection\n",
    "At this step, we need to select the feature for model training. The method used in this step is checking the correlation between each feature with the target using pearson correlation because this method is robust to outliers. For p-value, I set the threshold at 0.05."
   ]
  },
  {
   "cell_type": "code",
   "execution_count": 20,
   "metadata": {},
   "outputs": [
    {
     "name": "stdout",
     "output_type": "stream",
     "text": [
      "Physics P-Value : 0.011701703021377284\n",
      "Science P-Value : 4.9105659870437336e-05\n",
      "Stats P-Value : 2.743744096615544e-10\n"
     ]
    }
   ],
   "source": [
    "# Checking feature correlation with target\n",
    "f_stat1, p_val1 = spearmanr(X_train.Physics, y_train)\n",
    "f_stat2, p_val2 = spearmanr(X_train.Science, y_train)\n",
    "f_stat3, p_val3 = spearmanr(X_train.Stats, y_train)\n",
    "\n",
    "print(\"Physics P-Value :\", p_val1)\n",
    "print(\"Science P-Value :\", p_val2)\n",
    "print(\"Stats P-Value :\", p_val3)"
   ]
  },
  {
   "attachments": {},
   "cell_type": "markdown",
   "metadata": {},
   "source": [
    "Based on the output result, all the p-value score is below the threshold (0.05). That means all feature values have correlation with the target and the target value is dependent on all feature values. So, all the feature will be included in model training."
   ]
  },
  {
   "attachments": {},
   "cell_type": "markdown",
   "metadata": {},
   "source": [
    "### Feature Scaling\n",
    "Feature scaling is a method to change the value of the features into the same scale. First, we need to check the distribution of each feature in train set."
   ]
  },
  {
   "cell_type": "code",
   "execution_count": 21,
   "metadata": {},
   "outputs": [
    {
     "name": "stdout",
     "output_type": "stream",
     "text": [
      "Physics Skew : -1.671266388249308 (Skew Distribution)\n",
      "Science Skew : -1.1236090258487361 (Skew Distribution)\n",
      "Stats Skew : -0.8235275432326731 (Skew Distribution)\n"
     ]
    }
   ],
   "source": [
    "# Check the data distribution\n",
    "col = X_train.columns.to_list()\n",
    "for c in col:\n",
    "    if ((X_train[c].skew() <= 0.5) and (X_train[c].skew() >= -0.5)):\n",
    "        print(c,\"Skew :\",X_train[c].skew(), \"(Normal Distribution)\")\n",
    "    else:\n",
    "        print(c,\"Skew :\",X_train[c].skew(), \"(Skew Distribution)\")"
   ]
  },
  {
   "attachments": {},
   "cell_type": "markdown",
   "metadata": {},
   "source": [
    "The Physics and Science feature seems extremely skew (less than -1.0), and Stats feature just skew (less than -0.5 but no less than -1.0). The best scaler for extremely skew data is using Robust Scaler, and for just skew is Min Max Scaler."
   ]
  },
  {
   "cell_type": "code",
   "execution_count": 22,
   "metadata": {},
   "outputs": [],
   "source": [
    "# Scaling with Robust Scaler\n",
    "scaler_1 = RobustScaler()\n",
    "scaler_1.fit(X_train[[\"Physics\", \"Science\"]])\n",
    "\n",
    "X_train_scaled_1 = scaler_1.transform(X_train[[\"Physics\", \"Science\"]])\n",
    "X_test_scaled_1 = scaler_1.transform(X_test[[\"Physics\", \"Science\"]])"
   ]
  },
  {
   "cell_type": "code",
   "execution_count": 23,
   "metadata": {},
   "outputs": [],
   "source": [
    "# Scaling with Min Max\n",
    "scaler_2 = MinMaxScaler()\n",
    "scaler_2.fit(X_train[[\"Stats\"]])\n",
    "\n",
    "X_train_scaled_2 = scaler_2.transform(X_train[[\"Stats\"]])\n",
    "X_test_scaled_2 = scaler_2.transform(X_test[[\"Stats\"]])"
   ]
  },
  {
   "cell_type": "code",
   "execution_count": 24,
   "metadata": {},
   "outputs": [
    {
     "data": {
      "text/plain": [
       "array([[ 1.0625    , -0.47058824,  0.80769231],\n",
       "       [-0.875     , -0.35294118,  0.42307692],\n",
       "       [-0.1875    , -0.52941176,  0.83333333],\n",
       "       ...,\n",
       "       [-1.1875    , -0.05882353,  0.6025641 ],\n",
       "       [ 0.75      , -0.88235294,  0.94871795],\n",
       "       [-2.5625    ,  1.29411765,  0.98717949]])"
      ]
     },
     "execution_count": 24,
     "metadata": {},
     "output_type": "execute_result"
    }
   ],
   "source": [
    "# Finalize feature\n",
    "X_train_final = np.concatenate([X_train_scaled_1, X_train_scaled_2], axis=1)\n",
    "X_test_final = np.concatenate([X_test_scaled_1, X_test_scaled_2], axis=1)\n",
    "\n",
    "X_train_final"
   ]
  },
  {
   "attachments": {},
   "cell_type": "markdown",
   "metadata": {},
   "source": [
    "## Model Definition"
   ]
  },
  {
   "attachments": {},
   "cell_type": "markdown",
   "metadata": {},
   "source": [
    "There are several machine learning alghorithm will be used for testing the model performance, Linear Regression, SVM, KNN, Decision Tree, Random Forest, and Ada Boost. These alghorithm will be tested and evaluate the performance. The algorithm with the best performance will be chosen as the base algorithm for predicting the math scores."
   ]
  },
  {
   "cell_type": "code",
   "execution_count": 25,
   "metadata": {},
   "outputs": [],
   "source": [
    "# Defining the model\n",
    "model_lr = LinearRegression()\n",
    "model_svm = SVR()\n",
    "model_knn = KNeighborsRegressor()\n",
    "model_dt = DecisionTreeRegressor(random_state=17)\n",
    "model_rf = RandomForestRegressor(random_state=17)\n",
    "model_ab = AdaBoostRegressor(random_state=17)"
   ]
  },
  {
   "attachments": {},
   "cell_type": "markdown",
   "metadata": {},
   "source": [
    "## Model Training"
   ]
  },
  {
   "attachments": {},
   "cell_type": "markdown",
   "metadata": {},
   "source": [
    "After defining the model, all model will be trained with scaled train feature and train target."
   ]
  },
  {
   "cell_type": "code",
   "execution_count": 26,
   "metadata": {},
   "outputs": [
    {
     "data": {
      "text/html": [
       "<style>#sk-container-id-1 {color: black;background-color: white;}#sk-container-id-1 pre{padding: 0;}#sk-container-id-1 div.sk-toggleable {background-color: white;}#sk-container-id-1 label.sk-toggleable__label {cursor: pointer;display: block;width: 100%;margin-bottom: 0;padding: 0.3em;box-sizing: border-box;text-align: center;}#sk-container-id-1 label.sk-toggleable__label-arrow:before {content: \"▸\";float: left;margin-right: 0.25em;color: #696969;}#sk-container-id-1 label.sk-toggleable__label-arrow:hover:before {color: black;}#sk-container-id-1 div.sk-estimator:hover label.sk-toggleable__label-arrow:before {color: black;}#sk-container-id-1 div.sk-toggleable__content {max-height: 0;max-width: 0;overflow: hidden;text-align: left;background-color: #f0f8ff;}#sk-container-id-1 div.sk-toggleable__content pre {margin: 0.2em;color: black;border-radius: 0.25em;background-color: #f0f8ff;}#sk-container-id-1 input.sk-toggleable__control:checked~div.sk-toggleable__content {max-height: 200px;max-width: 100%;overflow: auto;}#sk-container-id-1 input.sk-toggleable__control:checked~label.sk-toggleable__label-arrow:before {content: \"▾\";}#sk-container-id-1 div.sk-estimator input.sk-toggleable__control:checked~label.sk-toggleable__label {background-color: #d4ebff;}#sk-container-id-1 div.sk-label input.sk-toggleable__control:checked~label.sk-toggleable__label {background-color: #d4ebff;}#sk-container-id-1 input.sk-hidden--visually {border: 0;clip: rect(1px 1px 1px 1px);clip: rect(1px, 1px, 1px, 1px);height: 1px;margin: -1px;overflow: hidden;padding: 0;position: absolute;width: 1px;}#sk-container-id-1 div.sk-estimator {font-family: monospace;background-color: #f0f8ff;border: 1px dotted black;border-radius: 0.25em;box-sizing: border-box;margin-bottom: 0.5em;}#sk-container-id-1 div.sk-estimator:hover {background-color: #d4ebff;}#sk-container-id-1 div.sk-parallel-item::after {content: \"\";width: 100%;border-bottom: 1px solid gray;flex-grow: 1;}#sk-container-id-1 div.sk-label:hover label.sk-toggleable__label {background-color: #d4ebff;}#sk-container-id-1 div.sk-serial::before {content: \"\";position: absolute;border-left: 1px solid gray;box-sizing: border-box;top: 0;bottom: 0;left: 50%;z-index: 0;}#sk-container-id-1 div.sk-serial {display: flex;flex-direction: column;align-items: center;background-color: white;padding-right: 0.2em;padding-left: 0.2em;position: relative;}#sk-container-id-1 div.sk-item {position: relative;z-index: 1;}#sk-container-id-1 div.sk-parallel {display: flex;align-items: stretch;justify-content: center;background-color: white;position: relative;}#sk-container-id-1 div.sk-item::before, #sk-container-id-1 div.sk-parallel-item::before {content: \"\";position: absolute;border-left: 1px solid gray;box-sizing: border-box;top: 0;bottom: 0;left: 50%;z-index: -1;}#sk-container-id-1 div.sk-parallel-item {display: flex;flex-direction: column;z-index: 1;position: relative;background-color: white;}#sk-container-id-1 div.sk-parallel-item:first-child::after {align-self: flex-end;width: 50%;}#sk-container-id-1 div.sk-parallel-item:last-child::after {align-self: flex-start;width: 50%;}#sk-container-id-1 div.sk-parallel-item:only-child::after {width: 0;}#sk-container-id-1 div.sk-dashed-wrapped {border: 1px dashed gray;margin: 0 0.4em 0.5em 0.4em;box-sizing: border-box;padding-bottom: 0.4em;background-color: white;}#sk-container-id-1 div.sk-label label {font-family: monospace;font-weight: bold;display: inline-block;line-height: 1.2em;}#sk-container-id-1 div.sk-label-container {text-align: center;}#sk-container-id-1 div.sk-container {/* jupyter's `normalize.less` sets `[hidden] { display: none; }` but bootstrap.min.css set `[hidden] { display: none !important; }` so we also need the `!important` here to be able to override the default hidden behavior on the sphinx rendered scikit-learn.org. See: https://github.com/scikit-learn/scikit-learn/issues/21755 */display: inline-block !important;position: relative;}#sk-container-id-1 div.sk-text-repr-fallback {display: none;}</style><div id=\"sk-container-id-1\" class=\"sk-top-container\"><div class=\"sk-text-repr-fallback\"><pre>LinearRegression()</pre><b>In a Jupyter environment, please rerun this cell to show the HTML representation or trust the notebook. <br />On GitHub, the HTML representation is unable to render, please try loading this page with nbviewer.org.</b></div><div class=\"sk-container\" hidden><div class=\"sk-item\"><div class=\"sk-estimator sk-toggleable\"><input class=\"sk-toggleable__control sk-hidden--visually\" id=\"sk-estimator-id-1\" type=\"checkbox\" checked><label for=\"sk-estimator-id-1\" class=\"sk-toggleable__label sk-toggleable__label-arrow\">LinearRegression</label><div class=\"sk-toggleable__content\"><pre>LinearRegression()</pre></div></div></div></div></div>"
      ],
      "text/plain": [
       "LinearRegression()"
      ]
     },
     "execution_count": 26,
     "metadata": {},
     "output_type": "execute_result"
    }
   ],
   "source": [
    "model_lr.fit(X_train_final, y_train)"
   ]
  },
  {
   "cell_type": "code",
   "execution_count": 27,
   "metadata": {},
   "outputs": [
    {
     "data": {
      "text/html": [
       "<style>#sk-container-id-2 {color: black;background-color: white;}#sk-container-id-2 pre{padding: 0;}#sk-container-id-2 div.sk-toggleable {background-color: white;}#sk-container-id-2 label.sk-toggleable__label {cursor: pointer;display: block;width: 100%;margin-bottom: 0;padding: 0.3em;box-sizing: border-box;text-align: center;}#sk-container-id-2 label.sk-toggleable__label-arrow:before {content: \"▸\";float: left;margin-right: 0.25em;color: #696969;}#sk-container-id-2 label.sk-toggleable__label-arrow:hover:before {color: black;}#sk-container-id-2 div.sk-estimator:hover label.sk-toggleable__label-arrow:before {color: black;}#sk-container-id-2 div.sk-toggleable__content {max-height: 0;max-width: 0;overflow: hidden;text-align: left;background-color: #f0f8ff;}#sk-container-id-2 div.sk-toggleable__content pre {margin: 0.2em;color: black;border-radius: 0.25em;background-color: #f0f8ff;}#sk-container-id-2 input.sk-toggleable__control:checked~div.sk-toggleable__content {max-height: 200px;max-width: 100%;overflow: auto;}#sk-container-id-2 input.sk-toggleable__control:checked~label.sk-toggleable__label-arrow:before {content: \"▾\";}#sk-container-id-2 div.sk-estimator input.sk-toggleable__control:checked~label.sk-toggleable__label {background-color: #d4ebff;}#sk-container-id-2 div.sk-label input.sk-toggleable__control:checked~label.sk-toggleable__label {background-color: #d4ebff;}#sk-container-id-2 input.sk-hidden--visually {border: 0;clip: rect(1px 1px 1px 1px);clip: rect(1px, 1px, 1px, 1px);height: 1px;margin: -1px;overflow: hidden;padding: 0;position: absolute;width: 1px;}#sk-container-id-2 div.sk-estimator {font-family: monospace;background-color: #f0f8ff;border: 1px dotted black;border-radius: 0.25em;box-sizing: border-box;margin-bottom: 0.5em;}#sk-container-id-2 div.sk-estimator:hover {background-color: #d4ebff;}#sk-container-id-2 div.sk-parallel-item::after {content: \"\";width: 100%;border-bottom: 1px solid gray;flex-grow: 1;}#sk-container-id-2 div.sk-label:hover label.sk-toggleable__label {background-color: #d4ebff;}#sk-container-id-2 div.sk-serial::before {content: \"\";position: absolute;border-left: 1px solid gray;box-sizing: border-box;top: 0;bottom: 0;left: 50%;z-index: 0;}#sk-container-id-2 div.sk-serial {display: flex;flex-direction: column;align-items: center;background-color: white;padding-right: 0.2em;padding-left: 0.2em;position: relative;}#sk-container-id-2 div.sk-item {position: relative;z-index: 1;}#sk-container-id-2 div.sk-parallel {display: flex;align-items: stretch;justify-content: center;background-color: white;position: relative;}#sk-container-id-2 div.sk-item::before, #sk-container-id-2 div.sk-parallel-item::before {content: \"\";position: absolute;border-left: 1px solid gray;box-sizing: border-box;top: 0;bottom: 0;left: 50%;z-index: -1;}#sk-container-id-2 div.sk-parallel-item {display: flex;flex-direction: column;z-index: 1;position: relative;background-color: white;}#sk-container-id-2 div.sk-parallel-item:first-child::after {align-self: flex-end;width: 50%;}#sk-container-id-2 div.sk-parallel-item:last-child::after {align-self: flex-start;width: 50%;}#sk-container-id-2 div.sk-parallel-item:only-child::after {width: 0;}#sk-container-id-2 div.sk-dashed-wrapped {border: 1px dashed gray;margin: 0 0.4em 0.5em 0.4em;box-sizing: border-box;padding-bottom: 0.4em;background-color: white;}#sk-container-id-2 div.sk-label label {font-family: monospace;font-weight: bold;display: inline-block;line-height: 1.2em;}#sk-container-id-2 div.sk-label-container {text-align: center;}#sk-container-id-2 div.sk-container {/* jupyter's `normalize.less` sets `[hidden] { display: none; }` but bootstrap.min.css set `[hidden] { display: none !important; }` so we also need the `!important` here to be able to override the default hidden behavior on the sphinx rendered scikit-learn.org. See: https://github.com/scikit-learn/scikit-learn/issues/21755 */display: inline-block !important;position: relative;}#sk-container-id-2 div.sk-text-repr-fallback {display: none;}</style><div id=\"sk-container-id-2\" class=\"sk-top-container\"><div class=\"sk-text-repr-fallback\"><pre>SVR()</pre><b>In a Jupyter environment, please rerun this cell to show the HTML representation or trust the notebook. <br />On GitHub, the HTML representation is unable to render, please try loading this page with nbviewer.org.</b></div><div class=\"sk-container\" hidden><div class=\"sk-item\"><div class=\"sk-estimator sk-toggleable\"><input class=\"sk-toggleable__control sk-hidden--visually\" id=\"sk-estimator-id-2\" type=\"checkbox\" checked><label for=\"sk-estimator-id-2\" class=\"sk-toggleable__label sk-toggleable__label-arrow\">SVR</label><div class=\"sk-toggleable__content\"><pre>SVR()</pre></div></div></div></div></div>"
      ],
      "text/plain": [
       "SVR()"
      ]
     },
     "execution_count": 27,
     "metadata": {},
     "output_type": "execute_result"
    }
   ],
   "source": [
    "model_svm.fit(X_train_final, y_train)"
   ]
  },
  {
   "cell_type": "code",
   "execution_count": 28,
   "metadata": {},
   "outputs": [
    {
     "data": {
      "text/html": [
       "<style>#sk-container-id-3 {color: black;background-color: white;}#sk-container-id-3 pre{padding: 0;}#sk-container-id-3 div.sk-toggleable {background-color: white;}#sk-container-id-3 label.sk-toggleable__label {cursor: pointer;display: block;width: 100%;margin-bottom: 0;padding: 0.3em;box-sizing: border-box;text-align: center;}#sk-container-id-3 label.sk-toggleable__label-arrow:before {content: \"▸\";float: left;margin-right: 0.25em;color: #696969;}#sk-container-id-3 label.sk-toggleable__label-arrow:hover:before {color: black;}#sk-container-id-3 div.sk-estimator:hover label.sk-toggleable__label-arrow:before {color: black;}#sk-container-id-3 div.sk-toggleable__content {max-height: 0;max-width: 0;overflow: hidden;text-align: left;background-color: #f0f8ff;}#sk-container-id-3 div.sk-toggleable__content pre {margin: 0.2em;color: black;border-radius: 0.25em;background-color: #f0f8ff;}#sk-container-id-3 input.sk-toggleable__control:checked~div.sk-toggleable__content {max-height: 200px;max-width: 100%;overflow: auto;}#sk-container-id-3 input.sk-toggleable__control:checked~label.sk-toggleable__label-arrow:before {content: \"▾\";}#sk-container-id-3 div.sk-estimator input.sk-toggleable__control:checked~label.sk-toggleable__label {background-color: #d4ebff;}#sk-container-id-3 div.sk-label input.sk-toggleable__control:checked~label.sk-toggleable__label {background-color: #d4ebff;}#sk-container-id-3 input.sk-hidden--visually {border: 0;clip: rect(1px 1px 1px 1px);clip: rect(1px, 1px, 1px, 1px);height: 1px;margin: -1px;overflow: hidden;padding: 0;position: absolute;width: 1px;}#sk-container-id-3 div.sk-estimator {font-family: monospace;background-color: #f0f8ff;border: 1px dotted black;border-radius: 0.25em;box-sizing: border-box;margin-bottom: 0.5em;}#sk-container-id-3 div.sk-estimator:hover {background-color: #d4ebff;}#sk-container-id-3 div.sk-parallel-item::after {content: \"\";width: 100%;border-bottom: 1px solid gray;flex-grow: 1;}#sk-container-id-3 div.sk-label:hover label.sk-toggleable__label {background-color: #d4ebff;}#sk-container-id-3 div.sk-serial::before {content: \"\";position: absolute;border-left: 1px solid gray;box-sizing: border-box;top: 0;bottom: 0;left: 50%;z-index: 0;}#sk-container-id-3 div.sk-serial {display: flex;flex-direction: column;align-items: center;background-color: white;padding-right: 0.2em;padding-left: 0.2em;position: relative;}#sk-container-id-3 div.sk-item {position: relative;z-index: 1;}#sk-container-id-3 div.sk-parallel {display: flex;align-items: stretch;justify-content: center;background-color: white;position: relative;}#sk-container-id-3 div.sk-item::before, #sk-container-id-3 div.sk-parallel-item::before {content: \"\";position: absolute;border-left: 1px solid gray;box-sizing: border-box;top: 0;bottom: 0;left: 50%;z-index: -1;}#sk-container-id-3 div.sk-parallel-item {display: flex;flex-direction: column;z-index: 1;position: relative;background-color: white;}#sk-container-id-3 div.sk-parallel-item:first-child::after {align-self: flex-end;width: 50%;}#sk-container-id-3 div.sk-parallel-item:last-child::after {align-self: flex-start;width: 50%;}#sk-container-id-3 div.sk-parallel-item:only-child::after {width: 0;}#sk-container-id-3 div.sk-dashed-wrapped {border: 1px dashed gray;margin: 0 0.4em 0.5em 0.4em;box-sizing: border-box;padding-bottom: 0.4em;background-color: white;}#sk-container-id-3 div.sk-label label {font-family: monospace;font-weight: bold;display: inline-block;line-height: 1.2em;}#sk-container-id-3 div.sk-label-container {text-align: center;}#sk-container-id-3 div.sk-container {/* jupyter's `normalize.less` sets `[hidden] { display: none; }` but bootstrap.min.css set `[hidden] { display: none !important; }` so we also need the `!important` here to be able to override the default hidden behavior on the sphinx rendered scikit-learn.org. See: https://github.com/scikit-learn/scikit-learn/issues/21755 */display: inline-block !important;position: relative;}#sk-container-id-3 div.sk-text-repr-fallback {display: none;}</style><div id=\"sk-container-id-3\" class=\"sk-top-container\"><div class=\"sk-text-repr-fallback\"><pre>KNeighborsRegressor()</pre><b>In a Jupyter environment, please rerun this cell to show the HTML representation or trust the notebook. <br />On GitHub, the HTML representation is unable to render, please try loading this page with nbviewer.org.</b></div><div class=\"sk-container\" hidden><div class=\"sk-item\"><div class=\"sk-estimator sk-toggleable\"><input class=\"sk-toggleable__control sk-hidden--visually\" id=\"sk-estimator-id-3\" type=\"checkbox\" checked><label for=\"sk-estimator-id-3\" class=\"sk-toggleable__label sk-toggleable__label-arrow\">KNeighborsRegressor</label><div class=\"sk-toggleable__content\"><pre>KNeighborsRegressor()</pre></div></div></div></div></div>"
      ],
      "text/plain": [
       "KNeighborsRegressor()"
      ]
     },
     "execution_count": 28,
     "metadata": {},
     "output_type": "execute_result"
    }
   ],
   "source": [
    "model_knn.fit(X_train_final, y_train)"
   ]
  },
  {
   "cell_type": "code",
   "execution_count": 29,
   "metadata": {},
   "outputs": [
    {
     "data": {
      "text/html": [
       "<style>#sk-container-id-4 {color: black;background-color: white;}#sk-container-id-4 pre{padding: 0;}#sk-container-id-4 div.sk-toggleable {background-color: white;}#sk-container-id-4 label.sk-toggleable__label {cursor: pointer;display: block;width: 100%;margin-bottom: 0;padding: 0.3em;box-sizing: border-box;text-align: center;}#sk-container-id-4 label.sk-toggleable__label-arrow:before {content: \"▸\";float: left;margin-right: 0.25em;color: #696969;}#sk-container-id-4 label.sk-toggleable__label-arrow:hover:before {color: black;}#sk-container-id-4 div.sk-estimator:hover label.sk-toggleable__label-arrow:before {color: black;}#sk-container-id-4 div.sk-toggleable__content {max-height: 0;max-width: 0;overflow: hidden;text-align: left;background-color: #f0f8ff;}#sk-container-id-4 div.sk-toggleable__content pre {margin: 0.2em;color: black;border-radius: 0.25em;background-color: #f0f8ff;}#sk-container-id-4 input.sk-toggleable__control:checked~div.sk-toggleable__content {max-height: 200px;max-width: 100%;overflow: auto;}#sk-container-id-4 input.sk-toggleable__control:checked~label.sk-toggleable__label-arrow:before {content: \"▾\";}#sk-container-id-4 div.sk-estimator input.sk-toggleable__control:checked~label.sk-toggleable__label {background-color: #d4ebff;}#sk-container-id-4 div.sk-label input.sk-toggleable__control:checked~label.sk-toggleable__label {background-color: #d4ebff;}#sk-container-id-4 input.sk-hidden--visually {border: 0;clip: rect(1px 1px 1px 1px);clip: rect(1px, 1px, 1px, 1px);height: 1px;margin: -1px;overflow: hidden;padding: 0;position: absolute;width: 1px;}#sk-container-id-4 div.sk-estimator {font-family: monospace;background-color: #f0f8ff;border: 1px dotted black;border-radius: 0.25em;box-sizing: border-box;margin-bottom: 0.5em;}#sk-container-id-4 div.sk-estimator:hover {background-color: #d4ebff;}#sk-container-id-4 div.sk-parallel-item::after {content: \"\";width: 100%;border-bottom: 1px solid gray;flex-grow: 1;}#sk-container-id-4 div.sk-label:hover label.sk-toggleable__label {background-color: #d4ebff;}#sk-container-id-4 div.sk-serial::before {content: \"\";position: absolute;border-left: 1px solid gray;box-sizing: border-box;top: 0;bottom: 0;left: 50%;z-index: 0;}#sk-container-id-4 div.sk-serial {display: flex;flex-direction: column;align-items: center;background-color: white;padding-right: 0.2em;padding-left: 0.2em;position: relative;}#sk-container-id-4 div.sk-item {position: relative;z-index: 1;}#sk-container-id-4 div.sk-parallel {display: flex;align-items: stretch;justify-content: center;background-color: white;position: relative;}#sk-container-id-4 div.sk-item::before, #sk-container-id-4 div.sk-parallel-item::before {content: \"\";position: absolute;border-left: 1px solid gray;box-sizing: border-box;top: 0;bottom: 0;left: 50%;z-index: -1;}#sk-container-id-4 div.sk-parallel-item {display: flex;flex-direction: column;z-index: 1;position: relative;background-color: white;}#sk-container-id-4 div.sk-parallel-item:first-child::after {align-self: flex-end;width: 50%;}#sk-container-id-4 div.sk-parallel-item:last-child::after {align-self: flex-start;width: 50%;}#sk-container-id-4 div.sk-parallel-item:only-child::after {width: 0;}#sk-container-id-4 div.sk-dashed-wrapped {border: 1px dashed gray;margin: 0 0.4em 0.5em 0.4em;box-sizing: border-box;padding-bottom: 0.4em;background-color: white;}#sk-container-id-4 div.sk-label label {font-family: monospace;font-weight: bold;display: inline-block;line-height: 1.2em;}#sk-container-id-4 div.sk-label-container {text-align: center;}#sk-container-id-4 div.sk-container {/* jupyter's `normalize.less` sets `[hidden] { display: none; }` but bootstrap.min.css set `[hidden] { display: none !important; }` so we also need the `!important` here to be able to override the default hidden behavior on the sphinx rendered scikit-learn.org. See: https://github.com/scikit-learn/scikit-learn/issues/21755 */display: inline-block !important;position: relative;}#sk-container-id-4 div.sk-text-repr-fallback {display: none;}</style><div id=\"sk-container-id-4\" class=\"sk-top-container\"><div class=\"sk-text-repr-fallback\"><pre>DecisionTreeRegressor(random_state=17)</pre><b>In a Jupyter environment, please rerun this cell to show the HTML representation or trust the notebook. <br />On GitHub, the HTML representation is unable to render, please try loading this page with nbviewer.org.</b></div><div class=\"sk-container\" hidden><div class=\"sk-item\"><div class=\"sk-estimator sk-toggleable\"><input class=\"sk-toggleable__control sk-hidden--visually\" id=\"sk-estimator-id-4\" type=\"checkbox\" checked><label for=\"sk-estimator-id-4\" class=\"sk-toggleable__label sk-toggleable__label-arrow\">DecisionTreeRegressor</label><div class=\"sk-toggleable__content\"><pre>DecisionTreeRegressor(random_state=17)</pre></div></div></div></div></div>"
      ],
      "text/plain": [
       "DecisionTreeRegressor(random_state=17)"
      ]
     },
     "execution_count": 29,
     "metadata": {},
     "output_type": "execute_result"
    }
   ],
   "source": [
    "model_dt.fit(X_train_final, y_train)"
   ]
  },
  {
   "cell_type": "code",
   "execution_count": 30,
   "metadata": {},
   "outputs": [
    {
     "data": {
      "text/html": [
       "<style>#sk-container-id-5 {color: black;background-color: white;}#sk-container-id-5 pre{padding: 0;}#sk-container-id-5 div.sk-toggleable {background-color: white;}#sk-container-id-5 label.sk-toggleable__label {cursor: pointer;display: block;width: 100%;margin-bottom: 0;padding: 0.3em;box-sizing: border-box;text-align: center;}#sk-container-id-5 label.sk-toggleable__label-arrow:before {content: \"▸\";float: left;margin-right: 0.25em;color: #696969;}#sk-container-id-5 label.sk-toggleable__label-arrow:hover:before {color: black;}#sk-container-id-5 div.sk-estimator:hover label.sk-toggleable__label-arrow:before {color: black;}#sk-container-id-5 div.sk-toggleable__content {max-height: 0;max-width: 0;overflow: hidden;text-align: left;background-color: #f0f8ff;}#sk-container-id-5 div.sk-toggleable__content pre {margin: 0.2em;color: black;border-radius: 0.25em;background-color: #f0f8ff;}#sk-container-id-5 input.sk-toggleable__control:checked~div.sk-toggleable__content {max-height: 200px;max-width: 100%;overflow: auto;}#sk-container-id-5 input.sk-toggleable__control:checked~label.sk-toggleable__label-arrow:before {content: \"▾\";}#sk-container-id-5 div.sk-estimator input.sk-toggleable__control:checked~label.sk-toggleable__label {background-color: #d4ebff;}#sk-container-id-5 div.sk-label input.sk-toggleable__control:checked~label.sk-toggleable__label {background-color: #d4ebff;}#sk-container-id-5 input.sk-hidden--visually {border: 0;clip: rect(1px 1px 1px 1px);clip: rect(1px, 1px, 1px, 1px);height: 1px;margin: -1px;overflow: hidden;padding: 0;position: absolute;width: 1px;}#sk-container-id-5 div.sk-estimator {font-family: monospace;background-color: #f0f8ff;border: 1px dotted black;border-radius: 0.25em;box-sizing: border-box;margin-bottom: 0.5em;}#sk-container-id-5 div.sk-estimator:hover {background-color: #d4ebff;}#sk-container-id-5 div.sk-parallel-item::after {content: \"\";width: 100%;border-bottom: 1px solid gray;flex-grow: 1;}#sk-container-id-5 div.sk-label:hover label.sk-toggleable__label {background-color: #d4ebff;}#sk-container-id-5 div.sk-serial::before {content: \"\";position: absolute;border-left: 1px solid gray;box-sizing: border-box;top: 0;bottom: 0;left: 50%;z-index: 0;}#sk-container-id-5 div.sk-serial {display: flex;flex-direction: column;align-items: center;background-color: white;padding-right: 0.2em;padding-left: 0.2em;position: relative;}#sk-container-id-5 div.sk-item {position: relative;z-index: 1;}#sk-container-id-5 div.sk-parallel {display: flex;align-items: stretch;justify-content: center;background-color: white;position: relative;}#sk-container-id-5 div.sk-item::before, #sk-container-id-5 div.sk-parallel-item::before {content: \"\";position: absolute;border-left: 1px solid gray;box-sizing: border-box;top: 0;bottom: 0;left: 50%;z-index: -1;}#sk-container-id-5 div.sk-parallel-item {display: flex;flex-direction: column;z-index: 1;position: relative;background-color: white;}#sk-container-id-5 div.sk-parallel-item:first-child::after {align-self: flex-end;width: 50%;}#sk-container-id-5 div.sk-parallel-item:last-child::after {align-self: flex-start;width: 50%;}#sk-container-id-5 div.sk-parallel-item:only-child::after {width: 0;}#sk-container-id-5 div.sk-dashed-wrapped {border: 1px dashed gray;margin: 0 0.4em 0.5em 0.4em;box-sizing: border-box;padding-bottom: 0.4em;background-color: white;}#sk-container-id-5 div.sk-label label {font-family: monospace;font-weight: bold;display: inline-block;line-height: 1.2em;}#sk-container-id-5 div.sk-label-container {text-align: center;}#sk-container-id-5 div.sk-container {/* jupyter's `normalize.less` sets `[hidden] { display: none; }` but bootstrap.min.css set `[hidden] { display: none !important; }` so we also need the `!important` here to be able to override the default hidden behavior on the sphinx rendered scikit-learn.org. See: https://github.com/scikit-learn/scikit-learn/issues/21755 */display: inline-block !important;position: relative;}#sk-container-id-5 div.sk-text-repr-fallback {display: none;}</style><div id=\"sk-container-id-5\" class=\"sk-top-container\"><div class=\"sk-text-repr-fallback\"><pre>RandomForestRegressor(random_state=17)</pre><b>In a Jupyter environment, please rerun this cell to show the HTML representation or trust the notebook. <br />On GitHub, the HTML representation is unable to render, please try loading this page with nbviewer.org.</b></div><div class=\"sk-container\" hidden><div class=\"sk-item\"><div class=\"sk-estimator sk-toggleable\"><input class=\"sk-toggleable__control sk-hidden--visually\" id=\"sk-estimator-id-5\" type=\"checkbox\" checked><label for=\"sk-estimator-id-5\" class=\"sk-toggleable__label sk-toggleable__label-arrow\">RandomForestRegressor</label><div class=\"sk-toggleable__content\"><pre>RandomForestRegressor(random_state=17)</pre></div></div></div></div></div>"
      ],
      "text/plain": [
       "RandomForestRegressor(random_state=17)"
      ]
     },
     "execution_count": 30,
     "metadata": {},
     "output_type": "execute_result"
    }
   ],
   "source": [
    "model_rf.fit(X_train_final, y_train)"
   ]
  },
  {
   "cell_type": "code",
   "execution_count": 31,
   "metadata": {},
   "outputs": [
    {
     "data": {
      "text/html": [
       "<style>#sk-container-id-6 {color: black;background-color: white;}#sk-container-id-6 pre{padding: 0;}#sk-container-id-6 div.sk-toggleable {background-color: white;}#sk-container-id-6 label.sk-toggleable__label {cursor: pointer;display: block;width: 100%;margin-bottom: 0;padding: 0.3em;box-sizing: border-box;text-align: center;}#sk-container-id-6 label.sk-toggleable__label-arrow:before {content: \"▸\";float: left;margin-right: 0.25em;color: #696969;}#sk-container-id-6 label.sk-toggleable__label-arrow:hover:before {color: black;}#sk-container-id-6 div.sk-estimator:hover label.sk-toggleable__label-arrow:before {color: black;}#sk-container-id-6 div.sk-toggleable__content {max-height: 0;max-width: 0;overflow: hidden;text-align: left;background-color: #f0f8ff;}#sk-container-id-6 div.sk-toggleable__content pre {margin: 0.2em;color: black;border-radius: 0.25em;background-color: #f0f8ff;}#sk-container-id-6 input.sk-toggleable__control:checked~div.sk-toggleable__content {max-height: 200px;max-width: 100%;overflow: auto;}#sk-container-id-6 input.sk-toggleable__control:checked~label.sk-toggleable__label-arrow:before {content: \"▾\";}#sk-container-id-6 div.sk-estimator input.sk-toggleable__control:checked~label.sk-toggleable__label {background-color: #d4ebff;}#sk-container-id-6 div.sk-label input.sk-toggleable__control:checked~label.sk-toggleable__label {background-color: #d4ebff;}#sk-container-id-6 input.sk-hidden--visually {border: 0;clip: rect(1px 1px 1px 1px);clip: rect(1px, 1px, 1px, 1px);height: 1px;margin: -1px;overflow: hidden;padding: 0;position: absolute;width: 1px;}#sk-container-id-6 div.sk-estimator {font-family: monospace;background-color: #f0f8ff;border: 1px dotted black;border-radius: 0.25em;box-sizing: border-box;margin-bottom: 0.5em;}#sk-container-id-6 div.sk-estimator:hover {background-color: #d4ebff;}#sk-container-id-6 div.sk-parallel-item::after {content: \"\";width: 100%;border-bottom: 1px solid gray;flex-grow: 1;}#sk-container-id-6 div.sk-label:hover label.sk-toggleable__label {background-color: #d4ebff;}#sk-container-id-6 div.sk-serial::before {content: \"\";position: absolute;border-left: 1px solid gray;box-sizing: border-box;top: 0;bottom: 0;left: 50%;z-index: 0;}#sk-container-id-6 div.sk-serial {display: flex;flex-direction: column;align-items: center;background-color: white;padding-right: 0.2em;padding-left: 0.2em;position: relative;}#sk-container-id-6 div.sk-item {position: relative;z-index: 1;}#sk-container-id-6 div.sk-parallel {display: flex;align-items: stretch;justify-content: center;background-color: white;position: relative;}#sk-container-id-6 div.sk-item::before, #sk-container-id-6 div.sk-parallel-item::before {content: \"\";position: absolute;border-left: 1px solid gray;box-sizing: border-box;top: 0;bottom: 0;left: 50%;z-index: -1;}#sk-container-id-6 div.sk-parallel-item {display: flex;flex-direction: column;z-index: 1;position: relative;background-color: white;}#sk-container-id-6 div.sk-parallel-item:first-child::after {align-self: flex-end;width: 50%;}#sk-container-id-6 div.sk-parallel-item:last-child::after {align-self: flex-start;width: 50%;}#sk-container-id-6 div.sk-parallel-item:only-child::after {width: 0;}#sk-container-id-6 div.sk-dashed-wrapped {border: 1px dashed gray;margin: 0 0.4em 0.5em 0.4em;box-sizing: border-box;padding-bottom: 0.4em;background-color: white;}#sk-container-id-6 div.sk-label label {font-family: monospace;font-weight: bold;display: inline-block;line-height: 1.2em;}#sk-container-id-6 div.sk-label-container {text-align: center;}#sk-container-id-6 div.sk-container {/* jupyter's `normalize.less` sets `[hidden] { display: none; }` but bootstrap.min.css set `[hidden] { display: none !important; }` so we also need the `!important` here to be able to override the default hidden behavior on the sphinx rendered scikit-learn.org. See: https://github.com/scikit-learn/scikit-learn/issues/21755 */display: inline-block !important;position: relative;}#sk-container-id-6 div.sk-text-repr-fallback {display: none;}</style><div id=\"sk-container-id-6\" class=\"sk-top-container\"><div class=\"sk-text-repr-fallback\"><pre>AdaBoostRegressor(random_state=17)</pre><b>In a Jupyter environment, please rerun this cell to show the HTML representation or trust the notebook. <br />On GitHub, the HTML representation is unable to render, please try loading this page with nbviewer.org.</b></div><div class=\"sk-container\" hidden><div class=\"sk-item\"><div class=\"sk-estimator sk-toggleable\"><input class=\"sk-toggleable__control sk-hidden--visually\" id=\"sk-estimator-id-6\" type=\"checkbox\" checked><label for=\"sk-estimator-id-6\" class=\"sk-toggleable__label sk-toggleable__label-arrow\">AdaBoostRegressor</label><div class=\"sk-toggleable__content\"><pre>AdaBoostRegressor(random_state=17)</pre></div></div></div></div></div>"
      ],
      "text/plain": [
       "AdaBoostRegressor(random_state=17)"
      ]
     },
     "execution_count": 31,
     "metadata": {},
     "output_type": "execute_result"
    }
   ],
   "source": [
    "model_ab.fit(X_train_final, y_train)"
   ]
  },
  {
   "attachments": {},
   "cell_type": "markdown",
   "metadata": {},
   "source": [
    "## Model Evaluation\n",
    "In this section, the model performance need to be evaluated after being trained and predicted the target. The metrics used for evaluating the model are Mean Absolute Error (average of the amount error generated by model) and R2 Score (metrics to measure the variance of the data). The characteristic of good performance shown by mean absolute error value is 0 or nearly 0, and r2 score value is 1 or nearly 1."
   ]
  },
  {
   "cell_type": "code",
   "execution_count": 32,
   "metadata": {},
   "outputs": [],
   "source": [
    "# Predict Linear Regression\n",
    "y_pred_train_lr = model_lr.predict(X_train_final)\n",
    "y_pred_test_lr = model_lr.predict(X_test_final)\n",
    "\n",
    "# Predict SVM\n",
    "y_pred_train_svm = model_svm.predict(X_train_final)\n",
    "y_pred_test_svm = model_svm.predict(X_test_final)\n",
    "\n",
    "# Predict KNN\n",
    "y_pred_train_knn = model_knn.predict(X_train_final)\n",
    "y_pred_test_knn = model_knn.predict(X_test_final)\n",
    "\n",
    "# Predict Decision Tree\n",
    "y_pred_train_dt = model_dt.predict(X_train_final)\n",
    "y_pred_test_dt = model_dt.predict(X_test_final)\n",
    "\n",
    "# Predict Random Forest\n",
    "y_pred_train_rf = model_rf.predict(X_train_final)\n",
    "y_pred_test_rf = model_rf.predict(X_test_final)\n",
    "\n",
    "# Predict Ada Boost\n",
    "y_pred_train_ab = model_ab.predict(X_train_final)\n",
    "y_pred_test_ab = model_ab.predict(X_test_final)"
   ]
  },
  {
   "cell_type": "code",
   "execution_count": 33,
   "metadata": {},
   "outputs": [
    {
     "data": {
      "image/png": "[encoded data removed]",
      "text/plain": [
       "<Figure size 900x400 with 1 Axes>"
      ]
     },
     "metadata": {},
     "output_type": "display_data"
    }
   ],
   "source": [
    "# Show mean absolute error value of each algorithm\n",
    "train_pred_list = [y_pred_train_lr, y_pred_train_svm, y_pred_train_knn, y_pred_train_dt, y_pred_train_rf, y_pred_train_ab]\n",
    "test_pred_list = [y_pred_test_lr, y_pred_test_svm, y_pred_test_knn, y_pred_test_dt, y_pred_test_rf, y_pred_test_ab]\n",
    "model_name_list = [\"Linear Regression\", \"SVM\", \"KNN\", \"Decision Tree\", \"Random Forest\", \"Ada Boost\"]\n",
    "mae_train = []\n",
    "mae_test = []\n",
    "\n",
    "for x, y in zip(train_pred_list, test_pred_list):\n",
    "    mae_train.append(np.round(mean_absolute_error(y_train, x),3))\n",
    "    mae_test.append(np.round(mean_absolute_error(y_test, y),3))\n",
    "\n",
    "data = {\n",
    "    \"train_mae\" : mae_train,\n",
    "    \"test_mae\" : mae_test\n",
    "}\n",
    "\n",
    "# Plot bar chart\n",
    "df_cmp = pd.DataFrame(data=data, index=model_name_list)\n",
    "chart = df_cmp.plot(kind=\"bar\", grid=True, figsize=(9,4), width=0.7)\n",
    "plt.xticks(rotation=\"horizontal\")\n",
    "plt.legend(loc=\"lower left\")\n",
    "plt.title(\"Mean Absolute Error value\")\n",
    "for i in chart.containers:\n",
    "    chart.bar_label(i,)"
   ]
  },
  {
   "cell_type": "code",
   "execution_count": 34,
   "metadata": {},
   "outputs": [
    {
     "data": {
      "image/png": "[encoded data removed]",
      "text/plain": [
       "<Figure size 900x400 with 1 Axes>"
      ]
     },
     "metadata": {},
     "output_type": "display_data"
    }
   ],
   "source": [
    "# Show r2 score value of each algorithm\n",
    "train_pred_list = [y_pred_train_lr, y_pred_train_svm, y_pred_train_knn, y_pred_train_dt, y_pred_train_rf, y_pred_train_ab]\n",
    "test_pred_list = [y_pred_test_lr, y_pred_test_svm, y_pred_test_knn, y_pred_test_dt, y_pred_test_rf, y_pred_test_ab]\n",
    "model_name_list = [\"Linear Regression\", \"SVM\", \"KNN\", \"Decision Tree\", \"Random Forest\", \"Ada Boost\"]\n",
    "r2_train = []\n",
    "r2_test = []\n",
    "\n",
    "for x, y in zip(train_pred_list, test_pred_list):\n",
    "    r2_train.append(np.round(r2_score(y_train, x),3))\n",
    "    r2_test.append(np.round(r2_score(y_test, y),3))\n",
    "\n",
    "data = {\n",
    "    \"train_mae\" : r2_train,\n",
    "    \"test_mae\" : r2_test\n",
    "}\n",
    "\n",
    "# Plot bar chart\n",
    "df_cmp = pd.DataFrame(data=data, index=model_name_list)\n",
    "chart = df_cmp.plot(kind=\"bar\", grid=True, figsize=(9,4), width=0.7)\n",
    "plt.xticks(rotation=\"horizontal\")\n",
    "plt.legend(loc=\"lower left\")\n",
    "plt.title(\"R2 Score value\")\n",
    "for i in chart.containers:\n",
    "    chart.bar_label(i,)"
   ]
  },
  {
   "attachments": {},
   "cell_type": "markdown",
   "metadata": {},
   "source": [
    "It seems all the algorithm performance results still underfit or overfit. We can see the Linear Regression, SVM, KNN, and Ada Boost is underfit because both in the train set and test set the Mean Absolute Error is high, and the R2 Score is very low (even reaching a negative value). For Decision tree is extremely overfitting because in the train set the Mean Absolute Error value is low but in the test set is high, and the R2 Score in the train set is high but in the test set is very low (even reaching a negative value). Random Forest is overfitting too but not extreme as Decision Tree. From all algorithms, the least better performance is Random Forest. The next step is to tune Random Forest algorithm, so the performance can be improved."
   ]
  },
  {
   "attachments": {},
   "cell_type": "markdown",
   "metadata": {},
   "source": [
    "## Model Tuning"
   ]
  },
  {
   "attachments": {},
   "cell_type": "markdown",
   "metadata": {},
   "source": [
    "For tuning the model, we need to find the best parameter for random forest algorithm. To find the best parameter, here I using the Manual Search method by using these parameters."
   ]
  },
  {
   "cell_type": "code",
   "execution_count": 35,
   "metadata": {},
   "outputs": [
    {
     "data": {
      "text/html": [
       "<style>#sk-container-id-7 {color: black;background-color: white;}#sk-container-id-7 pre{padding: 0;}#sk-container-id-7 div.sk-toggleable {background-color: white;}#sk-container-id-7 label.sk-toggleable__label {cursor: pointer;display: block;width: 100%;margin-bottom: 0;padding: 0.3em;box-sizing: border-box;text-align: center;}#sk-container-id-7 label.sk-toggleable__label-arrow:before {content: \"▸\";float: left;margin-right: 0.25em;color: #696969;}#sk-container-id-7 label.sk-toggleable__label-arrow:hover:before {color: black;}#sk-container-id-7 div.sk-estimator:hover label.sk-toggleable__label-arrow:before {color: black;}#sk-container-id-7 div.sk-toggleable__content {max-height: 0;max-width: 0;overflow: hidden;text-align: left;background-color: #f0f8ff;}#sk-container-id-7 div.sk-toggleable__content pre {margin: 0.2em;color: black;border-radius: 0.25em;background-color: #f0f8ff;}#sk-container-id-7 input.sk-toggleable__control:checked~div.sk-toggleable__content {max-height: 200px;max-width: 100%;overflow: auto;}#sk-container-id-7 input.sk-toggleable__control:checked~label.sk-toggleable__label-arrow:before {content: \"▾\";}#sk-container-id-7 div.sk-estimator input.sk-toggleable__control:checked~label.sk-toggleable__label {background-color: #d4ebff;}#sk-container-id-7 div.sk-label input.sk-toggleable__control:checked~label.sk-toggleable__label {background-color: #d4ebff;}#sk-container-id-7 input.sk-hidden--visually {border: 0;clip: rect(1px 1px 1px 1px);clip: rect(1px, 1px, 1px, 1px);height: 1px;margin: -1px;overflow: hidden;padding: 0;position: absolute;width: 1px;}#sk-container-id-7 div.sk-estimator {font-family: monospace;background-color: #f0f8ff;border: 1px dotted black;border-radius: 0.25em;box-sizing: border-box;margin-bottom: 0.5em;}#sk-container-id-7 div.sk-estimator:hover {background-color: #d4ebff;}#sk-container-id-7 div.sk-parallel-item::after {content: \"\";width: 100%;border-bottom: 1px solid gray;flex-grow: 1;}#sk-container-id-7 div.sk-label:hover label.sk-toggleable__label {background-color: #d4ebff;}#sk-container-id-7 div.sk-serial::before {content: \"\";position: absolute;border-left: 1px solid gray;box-sizing: border-box;top: 0;bottom: 0;left: 50%;z-index: 0;}#sk-container-id-7 div.sk-serial {display: flex;flex-direction: column;align-items: center;background-color: white;padding-right: 0.2em;padding-left: 0.2em;position: relative;}#sk-container-id-7 div.sk-item {position: relative;z-index: 1;}#sk-container-id-7 div.sk-parallel {display: flex;align-items: stretch;justify-content: center;background-color: white;position: relative;}#sk-container-id-7 div.sk-item::before, #sk-container-id-7 div.sk-parallel-item::before {content: \"\";position: absolute;border-left: 1px solid gray;box-sizing: border-box;top: 0;bottom: 0;left: 50%;z-index: -1;}#sk-container-id-7 div.sk-parallel-item {display: flex;flex-direction: column;z-index: 1;position: relative;background-color: white;}#sk-container-id-7 div.sk-parallel-item:first-child::after {align-self: flex-end;width: 50%;}#sk-container-id-7 div.sk-parallel-item:last-child::after {align-self: flex-start;width: 50%;}#sk-container-id-7 div.sk-parallel-item:only-child::after {width: 0;}#sk-container-id-7 div.sk-dashed-wrapped {border: 1px dashed gray;margin: 0 0.4em 0.5em 0.4em;box-sizing: border-box;padding-bottom: 0.4em;background-color: white;}#sk-container-id-7 div.sk-label label {font-family: monospace;font-weight: bold;display: inline-block;line-height: 1.2em;}#sk-container-id-7 div.sk-label-container {text-align: center;}#sk-container-id-7 div.sk-container {/* jupyter's `normalize.less` sets `[hidden] { display: none; }` but bootstrap.min.css set `[hidden] { display: none !important; }` so we also need the `!important` here to be able to override the default hidden behavior on the sphinx rendered scikit-learn.org. See: https://github.com/scikit-learn/scikit-learn/issues/21755 */display: inline-block !important;position: relative;}#sk-container-id-7 div.sk-text-repr-fallback {display: none;}</style><div id=\"sk-container-id-7\" class=\"sk-top-container\"><div class=\"sk-text-repr-fallback\"><pre>RandomForestRegressor(max_depth=100, max_features=&#x27;sqrt&#x27;, n_estimators=1300,\n",
       "                      random_state=17)</pre><b>In a Jupyter environment, please rerun this cell to show the HTML representation or trust the notebook. <br />On GitHub, the HTML representation is unable to render, please try loading this page with nbviewer.org.</b></div><div class=\"sk-container\" hidden><div class=\"sk-item\"><div class=\"sk-estimator sk-toggleable\"><input class=\"sk-toggleable__control sk-hidden--visually\" id=\"sk-estimator-id-7\" type=\"checkbox\" checked><label for=\"sk-estimator-id-7\" class=\"sk-toggleable__label sk-toggleable__label-arrow\">RandomForestRegressor</label><div class=\"sk-toggleable__content\"><pre>RandomForestRegressor(max_depth=100, max_features=&#x27;sqrt&#x27;, n_estimators=1300,\n",
       "                      random_state=17)</pre></div></div></div></div></div>"
      ],
      "text/plain": [
       "RandomForestRegressor(max_depth=100, max_features='sqrt', n_estimators=1300,\n",
       "                      random_state=17)"
      ]
     },
     "execution_count": 35,
     "metadata": {},
     "output_type": "execute_result"
    }
   ],
   "source": [
    "model_tune = RandomForestRegressor(random_state=17, n_estimators=1300, max_features=\"sqrt\", criterion=\"squared_error\", max_depth=100, bootstrap=True)\n",
    "\n",
    "model_tune.fit(X_train_final, y_train)"
   ]
  },
  {
   "cell_type": "code",
   "execution_count": 36,
   "metadata": {},
   "outputs": [],
   "source": [
    "# Predict using tuned model\n",
    "y_pred_train_tune = np.round(model_tune.predict(X_train_final),2)\n",
    "y_pred_test_tune = np.round(model_tune.predict(X_test_final),2)"
   ]
  },
  {
   "cell_type": "code",
   "execution_count": 37,
   "metadata": {},
   "outputs": [
    {
     "name": "stderr",
     "output_type": "stream",
     "text": [
      "C:\\Users\\user\\AppData\\Local\\Temp\\ipykernel_22272\\1342121641.py:9: FutureWarning: this method is deprecated in favour of `Styler.hide(axis=\"index\")`\n",
      "  df_cmp.style.hide_index()\n"
     ]
    },
    {
     "data": {
      "text/html": [
       "<style type=\"text/css\">\n",
       "</style>\n",
       "<table id=\"T_d3f54\">\n",
       "  <thead>\n",
       "    <tr>\n",
       "      <th id=\"T_d3f54_level0_col0\" class=\"col_heading level0 col0\" >Model name</th>\n",
       "      <th id=\"T_d3f54_level0_col1\" class=\"col_heading level0 col1\" >Train (MAE)</th>\n",
       "      <th id=\"T_d3f54_level0_col2\" class=\"col_heading level0 col2\" >Test (MAE)</th>\n",
       "    </tr>\n",
       "  </thead>\n",
       "  <tbody>\n",
       "    <tr>\n",
       "      <td id=\"T_d3f54_row0_col0\" class=\"data row0 col0\" >Random Forest (default)</td>\n",
       "      <td id=\"T_d3f54_row0_col1\" class=\"data row0 col1\" >3.412000</td>\n",
       "      <td id=\"T_d3f54_row0_col2\" class=\"data row0 col2\" >7.398000</td>\n",
       "    </tr>\n",
       "    <tr>\n",
       "      <td id=\"T_d3f54_row1_col0\" class=\"data row1 col0\" >Random Forest (tuning)</td>\n",
       "      <td id=\"T_d3f54_row1_col1\" class=\"data row1 col1\" >3.295000</td>\n",
       "      <td id=\"T_d3f54_row1_col2\" class=\"data row1 col2\" >7.346000</td>\n",
       "    </tr>\n",
       "  </tbody>\n",
       "</table>\n"
      ],
      "text/plain": [
       "<pandas.io.formats.style.Styler at 0x23179734510>"
      ]
     },
     "execution_count": 37,
     "metadata": {},
     "output_type": "execute_result"
    }
   ],
   "source": [
    "# MAE comparison between before and after tuned\n",
    "d = {\n",
    "    \"Model name\" : [\"Random Forest (default)\", \"Random Forest (tuning)\"],\n",
    "    \"Train (MAE)\" : [np.round(mean_absolute_error(y_train, y_pred_train_rf),3), np.round(mean_absolute_error(y_train, y_pred_train_tune),3)],\n",
    "    \"Test (MAE)\" : [np.round(mean_absolute_error(y_test, y_pred_test_rf),3), np.round(mean_absolute_error(y_test, y_pred_test_tune),3)],\n",
    "}\n",
    "\n",
    "df_cmp = pd.DataFrame(data=d)\n",
    "df_cmp.style.hide_index()"
   ]
  },
  {
   "cell_type": "code",
   "execution_count": 38,
   "metadata": {},
   "outputs": [
    {
     "name": "stderr",
     "output_type": "stream",
     "text": [
      "C:\\Users\\user\\AppData\\Local\\Temp\\ipykernel_22272\\2649286048.py:9: FutureWarning: this method is deprecated in favour of `Styler.hide(axis=\"index\")`\n",
      "  df_cmp.style.hide_index()\n"
     ]
    },
    {
     "data": {
      "text/html": [
       "<style type=\"text/css\">\n",
       "</style>\n",
       "<table id=\"T_ed325\">\n",
       "  <thead>\n",
       "    <tr>\n",
       "      <th id=\"T_ed325_level0_col0\" class=\"col_heading level0 col0\" >Model name</th>\n",
       "      <th id=\"T_ed325_level0_col1\" class=\"col_heading level0 col1\" >Train (R2 Score)</th>\n",
       "      <th id=\"T_ed325_level0_col2\" class=\"col_heading level0 col2\" >Test (R2 Score)</th>\n",
       "    </tr>\n",
       "  </thead>\n",
       "  <tbody>\n",
       "    <tr>\n",
       "      <td id=\"T_ed325_row0_col0\" class=\"data row0 col0\" >Random Forest (default)</td>\n",
       "      <td id=\"T_ed325_row0_col1\" class=\"data row0 col1\" >0.852000</td>\n",
       "      <td id=\"T_ed325_row0_col2\" class=\"data row0 col2\" >0.112000</td>\n",
       "    </tr>\n",
       "    <tr>\n",
       "      <td id=\"T_ed325_row1_col0\" class=\"data row1 col0\" >Random Forest (tuning)</td>\n",
       "      <td id=\"T_ed325_row1_col1\" class=\"data row1 col1\" >0.864000</td>\n",
       "      <td id=\"T_ed325_row1_col2\" class=\"data row1 col2\" >0.125000</td>\n",
       "    </tr>\n",
       "  </tbody>\n",
       "</table>\n"
      ],
      "text/plain": [
       "<pandas.io.formats.style.Styler at 0x23178e15250>"
      ]
     },
     "execution_count": 38,
     "metadata": {},
     "output_type": "execute_result"
    }
   ],
   "source": [
    "# R2 Score between before and after tuned\n",
    "d = {\n",
    "    \"Model name\" : [\"Random Forest (default)\", \"Random Forest (tuning)\"],\n",
    "    \"Train (R2 Score)\" : [np.round(r2_score(y_train, y_pred_train_rf),3), np.round(r2_score(y_train, y_pred_train_tune),3)],\n",
    "    \"Test (R2 Score)\" : [np.round(r2_score(y_test, y_pred_test_rf),3), np.round(r2_score(y_test, y_pred_test_tune),3)],\n",
    "}\n",
    "\n",
    "df_cmp = pd.DataFrame(data=d)\n",
    "df_cmp.style.hide_index()"
   ]
  },
  {
   "attachments": {},
   "cell_type": "markdown",
   "metadata": {},
   "source": [
    "After tuning the model, the performance is slightly increased/more better than before but it still overfit. Let's analyze the model prediction result in the test set."
   ]
  },
  {
   "cell_type": "code",
   "execution_count": 39,
   "metadata": {},
   "outputs": [
    {
     "data": {
      "text/html": [
       "<div>\n",
       "<style scoped>\n",
       "    .dataframe tbody tr th:only-of-type {\n",
       "        vertical-align: middle;\n",
       "    }\n",
       "\n",
       "    .dataframe tbody tr th {\n",
       "        vertical-align: top;\n",
       "    }\n",
       "\n",
       "    .dataframe thead th {\n",
       "        text-align: right;\n",
       "    }\n",
       "</style>\n",
       "<table border=\"1\" class=\"dataframe\">\n",
       "  <thead>\n",
       "    <tr style=\"text-align: right;\">\n",
       "      <th></th>\n",
       "      <th>Physics</th>\n",
       "      <th>Science</th>\n",
       "      <th>Stats</th>\n",
       "      <th>Math</th>\n",
       "      <th>pred</th>\n",
       "      <th>error</th>\n",
       "    </tr>\n",
       "  </thead>\n",
       "  <tbody>\n",
       "    <tr>\n",
       "      <th>287</th>\n",
       "      <td>66</td>\n",
       "      <td>76</td>\n",
       "      <td>74</td>\n",
       "      <td>67</td>\n",
       "      <td>71.34</td>\n",
       "      <td>4.34</td>\n",
       "    </tr>\n",
       "    <tr>\n",
       "      <th>109</th>\n",
       "      <td>23</td>\n",
       "      <td>69</td>\n",
       "      <td>62</td>\n",
       "      <td>56</td>\n",
       "      <td>76.74</td>\n",
       "      <td>20.74</td>\n",
       "    </tr>\n",
       "    <tr>\n",
       "      <th>235</th>\n",
       "      <td>44</td>\n",
       "      <td>63</td>\n",
       "      <td>86</td>\n",
       "      <td>81</td>\n",
       "      <td>76.17</td>\n",
       "      <td>4.83</td>\n",
       "    </tr>\n",
       "    <tr>\n",
       "      <th>105</th>\n",
       "      <td>44</td>\n",
       "      <td>93</td>\n",
       "      <td>48</td>\n",
       "      <td>85</td>\n",
       "      <td>78.46</td>\n",
       "      <td>6.54</td>\n",
       "    </tr>\n",
       "    <tr>\n",
       "      <th>359</th>\n",
       "      <td>70</td>\n",
       "      <td>75</td>\n",
       "      <td>63</td>\n",
       "      <td>74</td>\n",
       "      <td>68.98</td>\n",
       "      <td>5.02</td>\n",
       "    </tr>\n",
       "    <tr>\n",
       "      <th>...</th>\n",
       "      <td>...</td>\n",
       "      <td>...</td>\n",
       "      <td>...</td>\n",
       "      <td>...</td>\n",
       "      <td>...</td>\n",
       "      <td>...</td>\n",
       "    </tr>\n",
       "    <tr>\n",
       "      <th>258</th>\n",
       "      <td>68</td>\n",
       "      <td>81</td>\n",
       "      <td>81</td>\n",
       "      <td>64</td>\n",
       "      <td>77.24</td>\n",
       "      <td>13.24</td>\n",
       "    </tr>\n",
       "    <tr>\n",
       "      <th>122</th>\n",
       "      <td>33</td>\n",
       "      <td>80</td>\n",
       "      <td>74</td>\n",
       "      <td>80</td>\n",
       "      <td>78.64</td>\n",
       "      <td>1.36</td>\n",
       "    </tr>\n",
       "    <tr>\n",
       "      <th>272</th>\n",
       "      <td>71</td>\n",
       "      <td>66</td>\n",
       "      <td>60</td>\n",
       "      <td>66</td>\n",
       "      <td>65.53</td>\n",
       "      <td>0.47</td>\n",
       "    </tr>\n",
       "    <tr>\n",
       "      <th>412</th>\n",
       "      <td>57</td>\n",
       "      <td>85</td>\n",
       "      <td>82</td>\n",
       "      <td>87</td>\n",
       "      <td>81.00</td>\n",
       "      <td>6.00</td>\n",
       "    </tr>\n",
       "    <tr>\n",
       "      <th>354</th>\n",
       "      <td>69</td>\n",
       "      <td>66</td>\n",
       "      <td>97</td>\n",
       "      <td>67</td>\n",
       "      <td>78.78</td>\n",
       "      <td>11.78</td>\n",
       "    </tr>\n",
       "  </tbody>\n",
       "</table>\n",
       "<p>93 rows × 6 columns</p>\n",
       "</div>"
      ],
      "text/plain": [
       "     Physics  Science  Stats  Math   pred  error\n",
       "287       66       76     74    67  71.34   4.34\n",
       "109       23       69     62    56  76.74  20.74\n",
       "235       44       63     86    81  76.17   4.83\n",
       "105       44       93     48    85  78.46   6.54\n",
       "359       70       75     63    74  68.98   5.02\n",
       "..       ...      ...    ...   ...    ...    ...\n",
       "258       68       81     81    64  77.24  13.24\n",
       "122       33       80     74    80  78.64   1.36\n",
       "272       71       66     60    66  65.53   0.47\n",
       "412       57       85     82    87  81.00   6.00\n",
       "354       69       66     97    67  78.78  11.78\n",
       "\n",
       "[93 rows x 6 columns]"
      ]
     },
     "execution_count": 39,
     "metadata": {},
     "output_type": "execute_result"
    }
   ],
   "source": [
    "# Comparison dataframe\n",
    "df_pred = pd.DataFrame(y_pred_test_tune, columns=[\"pred\"], index=y_test.index)\n",
    "pred_test_cmp = pd.concat([X_test, y_test, df_pred], axis=1)\n",
    "pred_test_cmp[\"error\"] = abs(pred_test_cmp[\"Math\"] - pred_test_cmp[\"pred\"])\n",
    "pred_test_cmp"
   ]
  },
  {
   "cell_type": "code",
   "execution_count": 40,
   "metadata": {},
   "outputs": [
    {
     "data": {
      "text/html": [
       "<div>\n",
       "<style scoped>\n",
       "    .dataframe tbody tr th:only-of-type {\n",
       "        vertical-align: middle;\n",
       "    }\n",
       "\n",
       "    .dataframe tbody tr th {\n",
       "        vertical-align: top;\n",
       "    }\n",
       "\n",
       "    .dataframe thead th {\n",
       "        text-align: right;\n",
       "    }\n",
       "</style>\n",
       "<table border=\"1\" class=\"dataframe\">\n",
       "  <thead>\n",
       "    <tr style=\"text-align: right;\">\n",
       "      <th></th>\n",
       "      <th>Physics</th>\n",
       "      <th>Science</th>\n",
       "      <th>Stats</th>\n",
       "      <th>Math</th>\n",
       "      <th>pred</th>\n",
       "      <th>error</th>\n",
       "    </tr>\n",
       "  </thead>\n",
       "  <tbody>\n",
       "    <tr>\n",
       "      <th>287</th>\n",
       "      <td>66</td>\n",
       "      <td>76</td>\n",
       "      <td>74</td>\n",
       "      <td>67</td>\n",
       "      <td>71.34</td>\n",
       "      <td>4.34</td>\n",
       "    </tr>\n",
       "    <tr>\n",
       "      <th>235</th>\n",
       "      <td>44</td>\n",
       "      <td>63</td>\n",
       "      <td>86</td>\n",
       "      <td>81</td>\n",
       "      <td>76.17</td>\n",
       "      <td>4.83</td>\n",
       "    </tr>\n",
       "    <tr>\n",
       "      <th>154</th>\n",
       "      <td>80</td>\n",
       "      <td>74</td>\n",
       "      <td>89</td>\n",
       "      <td>80</td>\n",
       "      <td>77.59</td>\n",
       "      <td>2.41</td>\n",
       "    </tr>\n",
       "    <tr>\n",
       "      <th>350</th>\n",
       "      <td>89</td>\n",
       "      <td>88</td>\n",
       "      <td>91</td>\n",
       "      <td>82</td>\n",
       "      <td>85.16</td>\n",
       "      <td>3.16</td>\n",
       "    </tr>\n",
       "    <tr>\n",
       "      <th>144</th>\n",
       "      <td>46</td>\n",
       "      <td>78</td>\n",
       "      <td>74</td>\n",
       "      <td>76</td>\n",
       "      <td>77.10</td>\n",
       "      <td>1.10</td>\n",
       "    </tr>\n",
       "    <tr>\n",
       "      <th>53</th>\n",
       "      <td>88</td>\n",
       "      <td>86</td>\n",
       "      <td>95</td>\n",
       "      <td>86</td>\n",
       "      <td>84.96</td>\n",
       "      <td>1.04</td>\n",
       "    </tr>\n",
       "    <tr>\n",
       "      <th>440</th>\n",
       "      <td>65</td>\n",
       "      <td>74</td>\n",
       "      <td>67</td>\n",
       "      <td>73</td>\n",
       "      <td>71.48</td>\n",
       "      <td>1.52</td>\n",
       "    </tr>\n",
       "    <tr>\n",
       "      <th>327</th>\n",
       "      <td>77</td>\n",
       "      <td>86</td>\n",
       "      <td>76</td>\n",
       "      <td>74</td>\n",
       "      <td>72.45</td>\n",
       "      <td>1.55</td>\n",
       "    </tr>\n",
       "    <tr>\n",
       "      <th>254</th>\n",
       "      <td>74</td>\n",
       "      <td>75</td>\n",
       "      <td>84</td>\n",
       "      <td>66</td>\n",
       "      <td>61.84</td>\n",
       "      <td>4.16</td>\n",
       "    </tr>\n",
       "    <tr>\n",
       "      <th>161</th>\n",
       "      <td>93</td>\n",
       "      <td>85</td>\n",
       "      <td>80</td>\n",
       "      <td>68</td>\n",
       "      <td>72.32</td>\n",
       "      <td>4.32</td>\n",
       "    </tr>\n",
       "    <tr>\n",
       "      <th>169</th>\n",
       "      <td>74</td>\n",
       "      <td>96</td>\n",
       "      <td>67</td>\n",
       "      <td>63</td>\n",
       "      <td>66.83</td>\n",
       "      <td>3.83</td>\n",
       "    </tr>\n",
       "    <tr>\n",
       "      <th>361</th>\n",
       "      <td>86</td>\n",
       "      <td>67</td>\n",
       "      <td>67</td>\n",
       "      <td>71</td>\n",
       "      <td>75.62</td>\n",
       "      <td>4.62</td>\n",
       "    </tr>\n",
       "    <tr>\n",
       "      <th>405</th>\n",
       "      <td>90</td>\n",
       "      <td>57</td>\n",
       "      <td>66</td>\n",
       "      <td>67</td>\n",
       "      <td>70.48</td>\n",
       "      <td>3.48</td>\n",
       "    </tr>\n",
       "    <tr>\n",
       "      <th>97</th>\n",
       "      <td>72</td>\n",
       "      <td>64</td>\n",
       "      <td>59</td>\n",
       "      <td>69</td>\n",
       "      <td>66.32</td>\n",
       "      <td>2.68</td>\n",
       "    </tr>\n",
       "    <tr>\n",
       "      <th>371</th>\n",
       "      <td>80</td>\n",
       "      <td>74</td>\n",
       "      <td>67</td>\n",
       "      <td>67</td>\n",
       "      <td>70.65</td>\n",
       "      <td>3.65</td>\n",
       "    </tr>\n",
       "    <tr>\n",
       "      <th>42</th>\n",
       "      <td>73</td>\n",
       "      <td>74</td>\n",
       "      <td>63</td>\n",
       "      <td>69</td>\n",
       "      <td>68.66</td>\n",
       "      <td>0.34</td>\n",
       "    </tr>\n",
       "    <tr>\n",
       "      <th>52</th>\n",
       "      <td>69</td>\n",
       "      <td>77</td>\n",
       "      <td>81</td>\n",
       "      <td>73</td>\n",
       "      <td>75.85</td>\n",
       "      <td>2.85</td>\n",
       "    </tr>\n",
       "    <tr>\n",
       "      <th>395</th>\n",
       "      <td>67</td>\n",
       "      <td>85</td>\n",
       "      <td>67</td>\n",
       "      <td>67</td>\n",
       "      <td>68.84</td>\n",
       "      <td>1.84</td>\n",
       "    </tr>\n",
       "    <tr>\n",
       "      <th>331</th>\n",
       "      <td>82</td>\n",
       "      <td>90</td>\n",
       "      <td>80</td>\n",
       "      <td>80</td>\n",
       "      <td>82.98</td>\n",
       "      <td>2.98</td>\n",
       "    </tr>\n",
       "    <tr>\n",
       "      <th>221</th>\n",
       "      <td>72</td>\n",
       "      <td>74</td>\n",
       "      <td>54</td>\n",
       "      <td>75</td>\n",
       "      <td>75.40</td>\n",
       "      <td>0.40</td>\n",
       "    </tr>\n",
       "    <tr>\n",
       "      <th>251</th>\n",
       "      <td>80</td>\n",
       "      <td>74</td>\n",
       "      <td>59</td>\n",
       "      <td>75</td>\n",
       "      <td>73.85</td>\n",
       "      <td>1.15</td>\n",
       "    </tr>\n",
       "    <tr>\n",
       "      <th>99</th>\n",
       "      <td>44</td>\n",
       "      <td>19</td>\n",
       "      <td>33</td>\n",
       "      <td>83</td>\n",
       "      <td>78.42</td>\n",
       "      <td>4.58</td>\n",
       "    </tr>\n",
       "    <tr>\n",
       "      <th>425</th>\n",
       "      <td>88</td>\n",
       "      <td>73</td>\n",
       "      <td>69</td>\n",
       "      <td>73</td>\n",
       "      <td>71.27</td>\n",
       "      <td>1.73</td>\n",
       "    </tr>\n",
       "    <tr>\n",
       "      <th>13</th>\n",
       "      <td>80</td>\n",
       "      <td>81</td>\n",
       "      <td>83</td>\n",
       "      <td>74</td>\n",
       "      <td>73.08</td>\n",
       "      <td>0.92</td>\n",
       "    </tr>\n",
       "    <tr>\n",
       "      <th>255</th>\n",
       "      <td>78</td>\n",
       "      <td>63</td>\n",
       "      <td>76</td>\n",
       "      <td>81</td>\n",
       "      <td>81.70</td>\n",
       "      <td>0.70</td>\n",
       "    </tr>\n",
       "    <tr>\n",
       "      <th>142</th>\n",
       "      <td>76</td>\n",
       "      <td>85</td>\n",
       "      <td>93</td>\n",
       "      <td>85</td>\n",
       "      <td>82.17</td>\n",
       "      <td>2.83</td>\n",
       "    </tr>\n",
       "    <tr>\n",
       "      <th>404</th>\n",
       "      <td>85</td>\n",
       "      <td>67</td>\n",
       "      <td>80</td>\n",
       "      <td>82</td>\n",
       "      <td>79.32</td>\n",
       "      <td>2.68</td>\n",
       "    </tr>\n",
       "    <tr>\n",
       "      <th>9</th>\n",
       "      <td>89</td>\n",
       "      <td>84</td>\n",
       "      <td>80</td>\n",
       "      <td>85</td>\n",
       "      <td>84.12</td>\n",
       "      <td>0.88</td>\n",
       "    </tr>\n",
       "    <tr>\n",
       "      <th>51</th>\n",
       "      <td>72</td>\n",
       "      <td>67</td>\n",
       "      <td>67</td>\n",
       "      <td>67</td>\n",
       "      <td>69.07</td>\n",
       "      <td>2.07</td>\n",
       "    </tr>\n",
       "    <tr>\n",
       "      <th>68</th>\n",
       "      <td>86</td>\n",
       "      <td>80</td>\n",
       "      <td>88</td>\n",
       "      <td>75</td>\n",
       "      <td>79.43</td>\n",
       "      <td>4.43</td>\n",
       "    </tr>\n",
       "    <tr>\n",
       "      <th>334</th>\n",
       "      <td>89</td>\n",
       "      <td>67</td>\n",
       "      <td>91</td>\n",
       "      <td>74</td>\n",
       "      <td>70.08</td>\n",
       "      <td>3.92</td>\n",
       "    </tr>\n",
       "    <tr>\n",
       "      <th>215</th>\n",
       "      <td>87</td>\n",
       "      <td>54</td>\n",
       "      <td>77</td>\n",
       "      <td>79</td>\n",
       "      <td>75.14</td>\n",
       "      <td>3.86</td>\n",
       "    </tr>\n",
       "    <tr>\n",
       "      <th>25</th>\n",
       "      <td>74</td>\n",
       "      <td>71</td>\n",
       "      <td>75</td>\n",
       "      <td>73</td>\n",
       "      <td>72.79</td>\n",
       "      <td>0.21</td>\n",
       "    </tr>\n",
       "    <tr>\n",
       "      <th>82</th>\n",
       "      <td>80</td>\n",
       "      <td>84</td>\n",
       "      <td>86</td>\n",
       "      <td>83</td>\n",
       "      <td>80.71</td>\n",
       "      <td>2.29</td>\n",
       "    </tr>\n",
       "    <tr>\n",
       "      <th>247</th>\n",
       "      <td>76</td>\n",
       "      <td>71</td>\n",
       "      <td>22</td>\n",
       "      <td>76</td>\n",
       "      <td>75.10</td>\n",
       "      <td>0.90</td>\n",
       "    </tr>\n",
       "    <tr>\n",
       "      <th>181</th>\n",
       "      <td>74</td>\n",
       "      <td>34</td>\n",
       "      <td>61</td>\n",
       "      <td>67</td>\n",
       "      <td>65.31</td>\n",
       "      <td>1.69</td>\n",
       "    </tr>\n",
       "    <tr>\n",
       "      <th>16</th>\n",
       "      <td>81</td>\n",
       "      <td>89</td>\n",
       "      <td>80</td>\n",
       "      <td>85</td>\n",
       "      <td>81.23</td>\n",
       "      <td>3.77</td>\n",
       "    </tr>\n",
       "    <tr>\n",
       "      <th>242</th>\n",
       "      <td>80</td>\n",
       "      <td>22</td>\n",
       "      <td>80</td>\n",
       "      <td>74</td>\n",
       "      <td>77.35</td>\n",
       "      <td>3.35</td>\n",
       "    </tr>\n",
       "    <tr>\n",
       "      <th>122</th>\n",
       "      <td>33</td>\n",
       "      <td>80</td>\n",
       "      <td>74</td>\n",
       "      <td>80</td>\n",
       "      <td>78.64</td>\n",
       "      <td>1.36</td>\n",
       "    </tr>\n",
       "    <tr>\n",
       "      <th>272</th>\n",
       "      <td>71</td>\n",
       "      <td>66</td>\n",
       "      <td>60</td>\n",
       "      <td>66</td>\n",
       "      <td>65.53</td>\n",
       "      <td>0.47</td>\n",
       "    </tr>\n",
       "  </tbody>\n",
       "</table>\n",
       "</div>"
      ],
      "text/plain": [
       "     Physics  Science  Stats  Math   pred  error\n",
       "287       66       76     74    67  71.34   4.34\n",
       "235       44       63     86    81  76.17   4.83\n",
       "154       80       74     89    80  77.59   2.41\n",
       "350       89       88     91    82  85.16   3.16\n",
       "144       46       78     74    76  77.10   1.10\n",
       "53        88       86     95    86  84.96   1.04\n",
       "440       65       74     67    73  71.48   1.52\n",
       "327       77       86     76    74  72.45   1.55\n",
       "254       74       75     84    66  61.84   4.16\n",
       "161       93       85     80    68  72.32   4.32\n",
       "169       74       96     67    63  66.83   3.83\n",
       "361       86       67     67    71  75.62   4.62\n",
       "405       90       57     66    67  70.48   3.48\n",
       "97        72       64     59    69  66.32   2.68\n",
       "371       80       74     67    67  70.65   3.65\n",
       "42        73       74     63    69  68.66   0.34\n",
       "52        69       77     81    73  75.85   2.85\n",
       "395       67       85     67    67  68.84   1.84\n",
       "331       82       90     80    80  82.98   2.98\n",
       "221       72       74     54    75  75.40   0.40\n",
       "251       80       74     59    75  73.85   1.15\n",
       "99        44       19     33    83  78.42   4.58\n",
       "425       88       73     69    73  71.27   1.73\n",
       "13        80       81     83    74  73.08   0.92\n",
       "255       78       63     76    81  81.70   0.70\n",
       "142       76       85     93    85  82.17   2.83\n",
       "404       85       67     80    82  79.32   2.68\n",
       "9         89       84     80    85  84.12   0.88\n",
       "51        72       67     67    67  69.07   2.07\n",
       "68        86       80     88    75  79.43   4.43\n",
       "334       89       67     91    74  70.08   3.92\n",
       "215       87       54     77    79  75.14   3.86\n",
       "25        74       71     75    73  72.79   0.21\n",
       "82        80       84     86    83  80.71   2.29\n",
       "247       76       71     22    76  75.10   0.90\n",
       "181       74       34     61    67  65.31   1.69\n",
       "16        81       89     80    85  81.23   3.77\n",
       "242       80       22     80    74  77.35   3.35\n",
       "122       33       80     74    80  78.64   1.36\n",
       "272       71       66     60    66  65.53   0.47"
      ]
     },
     "execution_count": 40,
     "metadata": {},
     "output_type": "execute_result"
    }
   ],
   "source": [
    "# Check the small error prediction (error less than 5)\n",
    "pred_test_cmp[pred_test_cmp[\"error\"] < 5]"
   ]
  },
  {
   "cell_type": "code",
   "execution_count": 41,
   "metadata": {},
   "outputs": [
    {
     "data": {
      "text/html": [
       "<div>\n",
       "<style scoped>\n",
       "    .dataframe tbody tr th:only-of-type {\n",
       "        vertical-align: middle;\n",
       "    }\n",
       "\n",
       "    .dataframe tbody tr th {\n",
       "        vertical-align: top;\n",
       "    }\n",
       "\n",
       "    .dataframe thead th {\n",
       "        text-align: right;\n",
       "    }\n",
       "</style>\n",
       "<table border=\"1\" class=\"dataframe\">\n",
       "  <thead>\n",
       "    <tr style=\"text-align: right;\">\n",
       "      <th></th>\n",
       "      <th>Physics</th>\n",
       "      <th>Science</th>\n",
       "      <th>Stats</th>\n",
       "      <th>Math</th>\n",
       "      <th>pred</th>\n",
       "      <th>error</th>\n",
       "    </tr>\n",
       "  </thead>\n",
       "  <tbody>\n",
       "    <tr>\n",
       "      <th>109</th>\n",
       "      <td>23</td>\n",
       "      <td>69</td>\n",
       "      <td>62</td>\n",
       "      <td>56</td>\n",
       "      <td>76.74</td>\n",
       "      <td>20.74</td>\n",
       "    </tr>\n",
       "    <tr>\n",
       "      <th>105</th>\n",
       "      <td>44</td>\n",
       "      <td>93</td>\n",
       "      <td>48</td>\n",
       "      <td>85</td>\n",
       "      <td>78.46</td>\n",
       "      <td>6.54</td>\n",
       "    </tr>\n",
       "    <tr>\n",
       "      <th>359</th>\n",
       "      <td>70</td>\n",
       "      <td>75</td>\n",
       "      <td>63</td>\n",
       "      <td>74</td>\n",
       "      <td>68.98</td>\n",
       "      <td>5.02</td>\n",
       "    </tr>\n",
       "    <tr>\n",
       "      <th>35</th>\n",
       "      <td>68</td>\n",
       "      <td>66</td>\n",
       "      <td>62</td>\n",
       "      <td>61</td>\n",
       "      <td>68.53</td>\n",
       "      <td>7.53</td>\n",
       "    </tr>\n",
       "    <tr>\n",
       "      <th>349</th>\n",
       "      <td>79</td>\n",
       "      <td>60</td>\n",
       "      <td>65</td>\n",
       "      <td>91</td>\n",
       "      <td>74.12</td>\n",
       "      <td>16.88</td>\n",
       "    </tr>\n",
       "    <tr>\n",
       "      <th>132</th>\n",
       "      <td>28</td>\n",
       "      <td>56</td>\n",
       "      <td>94</td>\n",
       "      <td>70</td>\n",
       "      <td>78.24</td>\n",
       "      <td>8.24</td>\n",
       "    </tr>\n",
       "    <tr>\n",
       "      <th>223</th>\n",
       "      <td>4</td>\n",
       "      <td>69</td>\n",
       "      <td>83</td>\n",
       "      <td>65</td>\n",
       "      <td>79.26</td>\n",
       "      <td>14.26</td>\n",
       "    </tr>\n",
       "    <tr>\n",
       "      <th>345</th>\n",
       "      <td>84</td>\n",
       "      <td>83</td>\n",
       "      <td>76</td>\n",
       "      <td>91</td>\n",
       "      <td>77.87</td>\n",
       "      <td>13.13</td>\n",
       "    </tr>\n",
       "    <tr>\n",
       "      <th>397</th>\n",
       "      <td>82</td>\n",
       "      <td>87</td>\n",
       "      <td>74</td>\n",
       "      <td>91</td>\n",
       "      <td>76.71</td>\n",
       "      <td>14.29</td>\n",
       "    </tr>\n",
       "    <tr>\n",
       "      <th>151</th>\n",
       "      <td>44</td>\n",
       "      <td>22</td>\n",
       "      <td>94</td>\n",
       "      <td>74</td>\n",
       "      <td>80.58</td>\n",
       "      <td>6.58</td>\n",
       "    </tr>\n",
       "    <tr>\n",
       "      <th>130</th>\n",
       "      <td>23</td>\n",
       "      <td>45</td>\n",
       "      <td>56</td>\n",
       "      <td>65</td>\n",
       "      <td>72.20</td>\n",
       "      <td>7.20</td>\n",
       "    </tr>\n",
       "    <tr>\n",
       "      <th>70</th>\n",
       "      <td>89</td>\n",
       "      <td>83</td>\n",
       "      <td>79</td>\n",
       "      <td>76</td>\n",
       "      <td>81.31</td>\n",
       "      <td>5.31</td>\n",
       "    </tr>\n",
       "    <tr>\n",
       "      <th>29</th>\n",
       "      <td>85</td>\n",
       "      <td>80</td>\n",
       "      <td>76</td>\n",
       "      <td>87</td>\n",
       "      <td>79.23</td>\n",
       "      <td>7.77</td>\n",
       "    </tr>\n",
       "    <tr>\n",
       "      <th>348</th>\n",
       "      <td>83</td>\n",
       "      <td>82</td>\n",
       "      <td>91</td>\n",
       "      <td>57</td>\n",
       "      <td>80.75</td>\n",
       "      <td>23.75</td>\n",
       "    </tr>\n",
       "    <tr>\n",
       "      <th>176</th>\n",
       "      <td>94</td>\n",
       "      <td>33</td>\n",
       "      <td>70</td>\n",
       "      <td>76</td>\n",
       "      <td>69.59</td>\n",
       "      <td>6.41</td>\n",
       "    </tr>\n",
       "    <tr>\n",
       "      <th>452</th>\n",
       "      <td>91</td>\n",
       "      <td>74</td>\n",
       "      <td>82</td>\n",
       "      <td>90</td>\n",
       "      <td>76.86</td>\n",
       "      <td>13.14</td>\n",
       "    </tr>\n",
       "    <tr>\n",
       "      <th>414</th>\n",
       "      <td>65</td>\n",
       "      <td>67</td>\n",
       "      <td>65</td>\n",
       "      <td>80</td>\n",
       "      <td>68.10</td>\n",
       "      <td>11.90</td>\n",
       "    </tr>\n",
       "    <tr>\n",
       "      <th>207</th>\n",
       "      <td>21</td>\n",
       "      <td>23</td>\n",
       "      <td>74</td>\n",
       "      <td>69</td>\n",
       "      <td>75.97</td>\n",
       "      <td>6.97</td>\n",
       "    </tr>\n",
       "    <tr>\n",
       "      <th>310</th>\n",
       "      <td>65</td>\n",
       "      <td>74</td>\n",
       "      <td>69</td>\n",
       "      <td>65</td>\n",
       "      <td>72.15</td>\n",
       "      <td>7.15</td>\n",
       "    </tr>\n",
       "    <tr>\n",
       "      <th>189</th>\n",
       "      <td>77</td>\n",
       "      <td>87</td>\n",
       "      <td>68</td>\n",
       "      <td>66</td>\n",
       "      <td>71.14</td>\n",
       "      <td>5.14</td>\n",
       "    </tr>\n",
       "    <tr>\n",
       "      <th>294</th>\n",
       "      <td>91</td>\n",
       "      <td>89</td>\n",
       "      <td>74</td>\n",
       "      <td>79</td>\n",
       "      <td>84.30</td>\n",
       "      <td>5.30</td>\n",
       "    </tr>\n",
       "    <tr>\n",
       "      <th>265</th>\n",
       "      <td>74</td>\n",
       "      <td>71</td>\n",
       "      <td>80</td>\n",
       "      <td>88</td>\n",
       "      <td>74.91</td>\n",
       "      <td>13.09</td>\n",
       "    </tr>\n",
       "    <tr>\n",
       "      <th>329</th>\n",
       "      <td>67</td>\n",
       "      <td>66</td>\n",
       "      <td>94</td>\n",
       "      <td>94</td>\n",
       "      <td>79.88</td>\n",
       "      <td>14.12</td>\n",
       "    </tr>\n",
       "    <tr>\n",
       "      <th>190</th>\n",
       "      <td>70</td>\n",
       "      <td>75</td>\n",
       "      <td>89</td>\n",
       "      <td>85</td>\n",
       "      <td>72.03</td>\n",
       "      <td>12.97</td>\n",
       "    </tr>\n",
       "    <tr>\n",
       "      <th>418</th>\n",
       "      <td>76</td>\n",
       "      <td>71</td>\n",
       "      <td>82</td>\n",
       "      <td>68</td>\n",
       "      <td>73.12</td>\n",
       "      <td>5.12</td>\n",
       "    </tr>\n",
       "    <tr>\n",
       "      <th>54</th>\n",
       "      <td>77</td>\n",
       "      <td>84</td>\n",
       "      <td>75</td>\n",
       "      <td>87</td>\n",
       "      <td>74.68</td>\n",
       "      <td>12.32</td>\n",
       "    </tr>\n",
       "    <tr>\n",
       "      <th>222</th>\n",
       "      <td>72</td>\n",
       "      <td>74</td>\n",
       "      <td>85</td>\n",
       "      <td>85</td>\n",
       "      <td>68.38</td>\n",
       "      <td>16.62</td>\n",
       "    </tr>\n",
       "    <tr>\n",
       "      <th>167</th>\n",
       "      <td>65</td>\n",
       "      <td>80</td>\n",
       "      <td>73</td>\n",
       "      <td>76</td>\n",
       "      <td>70.83</td>\n",
       "      <td>5.17</td>\n",
       "    </tr>\n",
       "    <tr>\n",
       "      <th>296</th>\n",
       "      <td>65</td>\n",
       "      <td>74</td>\n",
       "      <td>91</td>\n",
       "      <td>85</td>\n",
       "      <td>74.98</td>\n",
       "      <td>10.02</td>\n",
       "    </tr>\n",
       "    <tr>\n",
       "      <th>134</th>\n",
       "      <td>54</td>\n",
       "      <td>75</td>\n",
       "      <td>87</td>\n",
       "      <td>86</td>\n",
       "      <td>69.51</td>\n",
       "      <td>16.49</td>\n",
       "    </tr>\n",
       "    <tr>\n",
       "      <th>58</th>\n",
       "      <td>77</td>\n",
       "      <td>79</td>\n",
       "      <td>69</td>\n",
       "      <td>83</td>\n",
       "      <td>74.18</td>\n",
       "      <td>8.82</td>\n",
       "    </tr>\n",
       "    <tr>\n",
       "      <th>399</th>\n",
       "      <td>88</td>\n",
       "      <td>80</td>\n",
       "      <td>71</td>\n",
       "      <td>63</td>\n",
       "      <td>70.50</td>\n",
       "      <td>7.50</td>\n",
       "    </tr>\n",
       "    <tr>\n",
       "      <th>357</th>\n",
       "      <td>65</td>\n",
       "      <td>66</td>\n",
       "      <td>91</td>\n",
       "      <td>67</td>\n",
       "      <td>72.64</td>\n",
       "      <td>5.64</td>\n",
       "    </tr>\n",
       "    <tr>\n",
       "      <th>107</th>\n",
       "      <td>78</td>\n",
       "      <td>86</td>\n",
       "      <td>80</td>\n",
       "      <td>32</td>\n",
       "      <td>76.60</td>\n",
       "      <td>44.60</td>\n",
       "    </tr>\n",
       "    <tr>\n",
       "      <th>113</th>\n",
       "      <td>12</td>\n",
       "      <td>81</td>\n",
       "      <td>96</td>\n",
       "      <td>74</td>\n",
       "      <td>80.10</td>\n",
       "      <td>6.10</td>\n",
       "    </tr>\n",
       "    <tr>\n",
       "      <th>173</th>\n",
       "      <td>65</td>\n",
       "      <td>80</td>\n",
       "      <td>81</td>\n",
       "      <td>89</td>\n",
       "      <td>75.94</td>\n",
       "      <td>13.06</td>\n",
       "    </tr>\n",
       "    <tr>\n",
       "      <th>203</th>\n",
       "      <td>71</td>\n",
       "      <td>0</td>\n",
       "      <td>77</td>\n",
       "      <td>69</td>\n",
       "      <td>76.65</td>\n",
       "      <td>7.65</td>\n",
       "    </tr>\n",
       "    <tr>\n",
       "      <th>400</th>\n",
       "      <td>80</td>\n",
       "      <td>66</td>\n",
       "      <td>85</td>\n",
       "      <td>65</td>\n",
       "      <td>70.46</td>\n",
       "      <td>5.46</td>\n",
       "    </tr>\n",
       "    <tr>\n",
       "      <th>326</th>\n",
       "      <td>64</td>\n",
       "      <td>80</td>\n",
       "      <td>65</td>\n",
       "      <td>97</td>\n",
       "      <td>75.72</td>\n",
       "      <td>21.28</td>\n",
       "    </tr>\n",
       "    <tr>\n",
       "      <th>20</th>\n",
       "      <td>76</td>\n",
       "      <td>80</td>\n",
       "      <td>68</td>\n",
       "      <td>80</td>\n",
       "      <td>74.13</td>\n",
       "      <td>5.87</td>\n",
       "    </tr>\n",
       "    <tr>\n",
       "      <th>80</th>\n",
       "      <td>62</td>\n",
       "      <td>54</td>\n",
       "      <td>56</td>\n",
       "      <td>54</td>\n",
       "      <td>59.83</td>\n",
       "      <td>5.83</td>\n",
       "    </tr>\n",
       "    <tr>\n",
       "      <th>438</th>\n",
       "      <td>57</td>\n",
       "      <td>67</td>\n",
       "      <td>65</td>\n",
       "      <td>80</td>\n",
       "      <td>68.80</td>\n",
       "      <td>11.20</td>\n",
       "    </tr>\n",
       "    <tr>\n",
       "      <th>121</th>\n",
       "      <td>66</td>\n",
       "      <td>55</td>\n",
       "      <td>68</td>\n",
       "      <td>86</td>\n",
       "      <td>68.73</td>\n",
       "      <td>17.27</td>\n",
       "    </tr>\n",
       "    <tr>\n",
       "      <th>136</th>\n",
       "      <td>75</td>\n",
       "      <td>80</td>\n",
       "      <td>74</td>\n",
       "      <td>89</td>\n",
       "      <td>82.93</td>\n",
       "      <td>6.07</td>\n",
       "    </tr>\n",
       "    <tr>\n",
       "      <th>388</th>\n",
       "      <td>66</td>\n",
       "      <td>85</td>\n",
       "      <td>82</td>\n",
       "      <td>87</td>\n",
       "      <td>80.94</td>\n",
       "      <td>6.06</td>\n",
       "    </tr>\n",
       "    <tr>\n",
       "      <th>351</th>\n",
       "      <td>83</td>\n",
       "      <td>80</td>\n",
       "      <td>60</td>\n",
       "      <td>63</td>\n",
       "      <td>71.15</td>\n",
       "      <td>8.15</td>\n",
       "    </tr>\n",
       "    <tr>\n",
       "      <th>421</th>\n",
       "      <td>67</td>\n",
       "      <td>87</td>\n",
       "      <td>74</td>\n",
       "      <td>91</td>\n",
       "      <td>71.60</td>\n",
       "      <td>19.40</td>\n",
       "    </tr>\n",
       "    <tr>\n",
       "      <th>180</th>\n",
       "      <td>83</td>\n",
       "      <td>84</td>\n",
       "      <td>85</td>\n",
       "      <td>83</td>\n",
       "      <td>89.79</td>\n",
       "      <td>6.79</td>\n",
       "    </tr>\n",
       "    <tr>\n",
       "      <th>362</th>\n",
       "      <td>80</td>\n",
       "      <td>66</td>\n",
       "      <td>57</td>\n",
       "      <td>85</td>\n",
       "      <td>68.19</td>\n",
       "      <td>16.81</td>\n",
       "    </tr>\n",
       "    <tr>\n",
       "      <th>133</th>\n",
       "      <td>98</td>\n",
       "      <td>95</td>\n",
       "      <td>86</td>\n",
       "      <td>94</td>\n",
       "      <td>83.44</td>\n",
       "      <td>10.56</td>\n",
       "    </tr>\n",
       "    <tr>\n",
       "      <th>258</th>\n",
       "      <td>68</td>\n",
       "      <td>81</td>\n",
       "      <td>81</td>\n",
       "      <td>64</td>\n",
       "      <td>77.24</td>\n",
       "      <td>13.24</td>\n",
       "    </tr>\n",
       "    <tr>\n",
       "      <th>412</th>\n",
       "      <td>57</td>\n",
       "      <td>85</td>\n",
       "      <td>82</td>\n",
       "      <td>87</td>\n",
       "      <td>81.00</td>\n",
       "      <td>6.00</td>\n",
       "    </tr>\n",
       "    <tr>\n",
       "      <th>354</th>\n",
       "      <td>69</td>\n",
       "      <td>66</td>\n",
       "      <td>97</td>\n",
       "      <td>67</td>\n",
       "      <td>78.78</td>\n",
       "      <td>11.78</td>\n",
       "    </tr>\n",
       "  </tbody>\n",
       "</table>\n",
       "</div>"
      ],
      "text/plain": [
       "     Physics  Science  Stats  Math   pred  error\n",
       "109       23       69     62    56  76.74  20.74\n",
       "105       44       93     48    85  78.46   6.54\n",
       "359       70       75     63    74  68.98   5.02\n",
       "35        68       66     62    61  68.53   7.53\n",
       "349       79       60     65    91  74.12  16.88\n",
       "132       28       56     94    70  78.24   8.24\n",
       "223        4       69     83    65  79.26  14.26\n",
       "345       84       83     76    91  77.87  13.13\n",
       "397       82       87     74    91  76.71  14.29\n",
       "151       44       22     94    74  80.58   6.58\n",
       "130       23       45     56    65  72.20   7.20\n",
       "70        89       83     79    76  81.31   5.31\n",
       "29        85       80     76    87  79.23   7.77\n",
       "348       83       82     91    57  80.75  23.75\n",
       "176       94       33     70    76  69.59   6.41\n",
       "452       91       74     82    90  76.86  13.14\n",
       "414       65       67     65    80  68.10  11.90\n",
       "207       21       23     74    69  75.97   6.97\n",
       "310       65       74     69    65  72.15   7.15\n",
       "189       77       87     68    66  71.14   5.14\n",
       "294       91       89     74    79  84.30   5.30\n",
       "265       74       71     80    88  74.91  13.09\n",
       "329       67       66     94    94  79.88  14.12\n",
       "190       70       75     89    85  72.03  12.97\n",
       "418       76       71     82    68  73.12   5.12\n",
       "54        77       84     75    87  74.68  12.32\n",
       "222       72       74     85    85  68.38  16.62\n",
       "167       65       80     73    76  70.83   5.17\n",
       "296       65       74     91    85  74.98  10.02\n",
       "134       54       75     87    86  69.51  16.49\n",
       "58        77       79     69    83  74.18   8.82\n",
       "399       88       80     71    63  70.50   7.50\n",
       "357       65       66     91    67  72.64   5.64\n",
       "107       78       86     80    32  76.60  44.60\n",
       "113       12       81     96    74  80.10   6.10\n",
       "173       65       80     81    89  75.94  13.06\n",
       "203       71        0     77    69  76.65   7.65\n",
       "400       80       66     85    65  70.46   5.46\n",
       "326       64       80     65    97  75.72  21.28\n",
       "20        76       80     68    80  74.13   5.87\n",
       "80        62       54     56    54  59.83   5.83\n",
       "438       57       67     65    80  68.80  11.20\n",
       "121       66       55     68    86  68.73  17.27\n",
       "136       75       80     74    89  82.93   6.07\n",
       "388       66       85     82    87  80.94   6.06\n",
       "351       83       80     60    63  71.15   8.15\n",
       "421       67       87     74    91  71.60  19.40\n",
       "180       83       84     85    83  89.79   6.79\n",
       "362       80       66     57    85  68.19  16.81\n",
       "133       98       95     86    94  83.44  10.56\n",
       "258       68       81     81    64  77.24  13.24\n",
       "412       57       85     82    87  81.00   6.00\n",
       "354       69       66     97    67  78.78  11.78"
      ]
     },
     "execution_count": 41,
     "metadata": {},
     "output_type": "execute_result"
    }
   ],
   "source": [
    "# Check the high error prediction (error more than 5)\n",
    "pred_test_cmp[pred_test_cmp[\"error\"] >= 5]"
   ]
  },
  {
   "attachments": {},
   "cell_type": "markdown",
   "metadata": {},
   "source": [
    "The model is good to predict when actual math score is around 60 to 80, but the model is fail/error to predict if the actual math score is too high (85 or above) or too low (55 or above). To improve the model performance, the new data must be added with new variance to learn new pattern of data and minimize the error at prediction."
   ]
  },
  {
   "attachments": {},
   "cell_type": "markdown",
   "metadata": {},
   "source": [
    "## Model Saving"
   ]
  },
  {
   "attachments": {},
   "cell_type": "markdown",
   "metadata": {},
   "source": [
    "In this section, list of features, scaler, and model that have been made is saved for testing using inference data. For list of features is saved using json, and for scaler and model using pickle."
   ]
  },
  {
   "cell_type": "code",
   "execution_count": 42,
   "metadata": {},
   "outputs": [],
   "source": [
    "# Save model, scaler, dan features\n",
    "with open(\"math_model.pkl\", \"wb\") as file_1:\n",
    "    pickle.dump(model_tune, file_1)\n",
    "\n",
    "with open(\"math_scaler_1.pkl\", \"wb\") as file_2:\n",
    "    pickle.dump(scaler_1, file_2)\n",
    "\n",
    "with open(\"math_scaler_2.pkl\", \"wb\") as file_3:\n",
    "    pickle.dump(scaler_2, file_3)\n",
    "\n",
    "with open(\"math_features_1.txt\", \"w\") as file_4:\n",
    "    json.dump(['Physics', 'Science'], file_4)\n",
    "\n",
    "with open(\"math_features_2.txt\", \"w\") as file_5:\n",
    "    json.dump(['Stats'], file_5)"
   ]
  },
  {
   "attachments": {},
   "cell_type": "markdown",
   "metadata": {},
   "source": [
    "## Inference Testing"
   ]
  },
  {
   "attachments": {},
   "cell_type": "markdown",
   "metadata": {},
   "source": [
    "Inference data is a data outside the train and test set. For predicting using the inference data can be seen in <b>inference.ipynb</b> file."
   ]
  },
  {
   "attachments": {},
   "cell_type": "markdown",
   "metadata": {},
   "source": [
    "## Conclusion"
   ]
  },
  {
   "attachments": {},
   "cell_type": "markdown",
   "metadata": {},
   "source": [
    "After analyzing the dataset, the pattern of data in each column has unique  characteristic. The middle score (median) and most score (mode) has the same value, that’s 74. And all the subjects scores data is negative skewed (most data are in the right), that means most of people got a good score at physics, science, statistics, and math exam. The next is, there's a correlation but not high between Science and Statistics score with Math score. Because someone with a good score at Math then mostly good at Science or Statistics and vice versa.\n",
    "\n",
    "From the results of the model prediction, the performance value of the model is still overfit because the performance of the model is good in the train set but poor in the test set. This is because the model still cannot read the pattern/trend of the data resulting high error prediction. For further improvisation, it is necessary to add more data with a new pattern of values to train the model. So that the model can minimize te error at prediction and increase the accuracy to predict the math scores.\n",
    "\n",
    "Apart from adding data, if the dataset used in modeling has been added/updated, the process from feature engineering to modeling needs to be adjusted again. For example in handling outliers, scaling, feature selection, and choosing the algorithms will also be adjusted based on the dataset used. Because there’s a  chance that the processes used in this project are not suitable if implemented in a new dataset.\n"
   ]
  }
 ],
 "metadata": {
  "kernelspec": {
   "display_name": "MyEnvironment",
   "language": "python",
   "name": "python3"
  },
  "language_info": {
   "codemirror_mode": {
    "name": "ipython",
    "version": 3
   },
   "file_extension": ".py",
   "mimetype": "text/x-python",
   "name": "python",
   "nbconvert_exporter": "python",
   "pygments_lexer": "ipython3",
   "version": "3.11.0"
  },
  "orig_nbformat": 4,
  "vscode": {
   "interpreter": {
    "hash": "f1e0c053c48393934bfb4e857e570e86bb0b39b48be5cfd7eb8c3f52e80641bb"
   }
  }
 },
 "nbformat": 4,
 "nbformat_minor": 2
}
